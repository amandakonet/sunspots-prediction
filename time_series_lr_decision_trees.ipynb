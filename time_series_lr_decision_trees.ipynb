{
  "nbformat": 4,
  "nbformat_minor": 0,
  "metadata": {
    "colab": {
      "name": "time-series-lr-decision-trees.ipynb",
      "provenance": [],
      "collapsed_sections": [],
      "authorship_tag": "ABX9TyOH3CAiAB1W+l8cIOdrQT8/"
    },
    "kernelspec": {
      "name": "python3",
      "display_name": "Python 3"
    },
    "language_info": {
      "name": "python"
    }
  },
  "cells": [
    {
      "cell_type": "markdown",
      "source": [
        "# Time series modeling: Linear Regression and Decision Trees"
      ],
      "metadata": {
        "id": "dS-Dy6JgXBFB"
      }
    },
    {
      "cell_type": "markdown",
      "source": [
        "Notebook to add time series variables to models using pyspark. Based on [this blog post](https://medium.com/analytics-vidhya/time-series-forecasting-using-spark-ml-part-2-31506514c643)"
      ],
      "metadata": {
        "id": "PrWmGVesJMnM"
      }
    },
    {
      "cell_type": "code",
      "source": [
        "from google.colab import drive\n",
        "drive.mount('/content/drive')\n",
        "import os\n",
        "cur_path = \"/content/drive/My Drive/big-data-final-project/\"\n",
        "os.chdir(cur_path)"
      ],
      "metadata": {
        "colab": {
          "base_uri": "https://localhost:8080/"
        },
        "id": "namo9-KtXaq6",
        "outputId": "098472ed-7d80-4da5-f391-84cd366155d4"
      },
      "execution_count": null,
      "outputs": [
        {
          "output_type": "stream",
          "name": "stdout",
          "text": [
            "Mounted at /content/drive\n"
          ]
        }
      ]
    },
    {
      "cell_type": "code",
      "execution_count": null,
      "metadata": {
        "id": "nxUIV3luW6n7"
      },
      "outputs": [],
      "source": [
        "!pip install pyspark\n",
        "!pip install -U -q PyDrive\n",
        "!apt install openjdk-8-jdk-headless -qq\n",
        "os.environ[\"JAVA_HOME\"] = \"/usr/lib/jvm/java-8-openjdk-amd64\""
      ]
    },
    {
      "cell_type": "code",
      "source": [
        "import pandas as pd\n",
        "import numpy as np\n",
        "import matplotlib.pyplot as plt\n",
        "%matplotlib inline\n",
        "\n",
        "import pyspark\n",
        "from pyspark.sql import *\n",
        "from pyspark.sql.functions import *\n",
        "from pyspark import SparkContext, SparkConf\n",
        "from pyspark.sql import SparkSession\n",
        "from pyspark.ml.regression import LinearRegression, DecisionTreeRegressor\n",
        "from pyspark.ml.feature import VectorAssembler\n",
        "from pyspark.ml.evaluation import RegressionEvaluator\n",
        "from pyspark.sql.types import StructType, StructField, LongType\n",
        "\n",
        "import statsmodels.tsa.stattools as ts"
      ],
      "metadata": {
        "id": "3insCHrAXelO",
        "colab": {
          "base_uri": "https://localhost:8080/"
        },
        "outputId": "d24f814b-e889-4c4c-c1c1-f21903b0e37c"
      },
      "execution_count": null,
      "outputs": [
        {
          "output_type": "stream",
          "name": "stderr",
          "text": [
            "/usr/local/lib/python3.7/dist-packages/statsmodels/tools/_testing.py:19: FutureWarning: pandas.util.testing is deprecated. Use the functions in the public API at pandas.testing instead.\n",
            "  import pandas.util.testing as tm\n"
          ]
        }
      ]
    },
    {
      "cell_type": "code",
      "source": [
        "# start session\n",
        "spark = SparkSession.builder.master(\"local[5]\").appName(\"groupbyagg\").getOrCreate()"
      ],
      "metadata": {
        "id": "LOZ0iCf5YOK0"
      },
      "execution_count": null,
      "outputs": []
    },
    {
      "cell_type": "markdown",
      "source": [
        "# Data"
      ],
      "metadata": {
        "id": "ugWGPRGgXtbS"
      }
    },
    {
      "cell_type": "code",
      "source": [
        "data = spark.read.csv(cur_path + 'Sunspots.csv',inferSchema=True,header=True)"
      ],
      "metadata": {
        "id": "QCzZwi_RYLYR"
      },
      "execution_count": null,
      "outputs": []
    },
    {
      "cell_type": "code",
      "source": [
        "data = data.withColumnRenamed('Monthly Mean Total Sunspot Number', 'sunspots')\n",
        "data = data.select(to_date(col(\"date\"),\"yyyy-mm-dd\").alias(\"date\"), 'sunspots')\n",
        "data.show(1)"
      ],
      "metadata": {
        "colab": {
          "base_uri": "https://localhost:8080/"
        },
        "id": "z1vhGhfqdBmS",
        "outputId": "964e4d6b-2faa-4c9e-86f8-2e2c79766583"
      },
      "execution_count": null,
      "outputs": [
        {
          "output_type": "stream",
          "name": "stdout",
          "text": [
            "+----------+--------+\n",
            "|      date|sunspots|\n",
            "+----------+--------+\n",
            "|1749-01-31|    96.7|\n",
            "+----------+--------+\n",
            "only showing top 1 row\n",
            "\n"
          ]
        }
      ]
    },
    {
      "cell_type": "code",
      "source": [
        "data.printSchema()"
      ],
      "metadata": {
        "colab": {
          "base_uri": "https://localhost:8080/"
        },
        "id": "AfpZmysyt6al",
        "outputId": "bff09569-3db0-4fe1-8a12-2083ec41aaea"
      },
      "execution_count": null,
      "outputs": [
        {
          "output_type": "stream",
          "name": "stdout",
          "text": [
            "root\n",
            " |-- date: date (nullable = true)\n",
            " |-- sunspots: double (nullable = true)\n",
            "\n"
          ]
        }
      ]
    },
    {
      "cell_type": "markdown",
      "source": [
        "# Create Variables"
      ],
      "metadata": {
        "id": "YQySdOTTcn4N"
      }
    },
    {
      "cell_type": "markdown",
      "source": [
        "Before running the next code, set the following variables:\n",
        "* n_lags: the number of previous months to lag with\n",
        "* data_lag: a new dataframe to put lagged variables in\n",
        "* features: a list of the features created (for use in vectorassembler later)\n",
        "* forecast_months: number of time-steps to forecast (for example, we could say 10 and get the predicted average sunspots for the next 10 months)"
      ],
      "metadata": {
        "id": "4XQrDxpAk2C-"
      }
    },
    {
      "cell_type": "code",
      "source": [
        "n_lags = 5\n",
        "data_lag = data.select('*')\n",
        "features = ['sunspots']\n",
        "forecast_months = 10"
      ],
      "metadata": {
        "id": "YoGVf8__lFbA"
      },
      "execution_count": null,
      "outputs": []
    },
    {
      "cell_type": "markdown",
      "source": [
        "## Create lags\n",
        "\n",
        "Create the time-lagged mean sunspot values"
      ],
      "metadata": {
        "id": "Raf73upzeIRE"
      }
    },
    {
      "cell_type": "code",
      "source": [
        "# add col to partition by\n",
        "data_lag = data_lag.withColumn(\"Series\",lit('Univariate'))\n",
        "\n",
        "# set up window\n",
        "lag_window = Window.orderBy(\"Series\")\n",
        "\n",
        "for i in range(n_lags):\n",
        "    str_lag = 'sunspots'+'_lag_'+str(i+1)\n",
        "    data_lag = data_lag.withColumn(str_lag,\n",
        "                                   lag(data_lag['sunspots'], i+1).over(lag_window))\n",
        "    features.append(str_lag)\n",
        "    \n",
        "data_lag = data_lag.drop('Series')    \n",
        "data_lag.show(5)"
      ],
      "metadata": {
        "colab": {
          "base_uri": "https://localhost:8080/"
        },
        "id": "wzW2FJ9gg6LL",
        "outputId": "35bf4801-a1b5-40af-aab1-f3da83b4655f"
      },
      "execution_count": null,
      "outputs": [
        {
          "output_type": "stream",
          "name": "stdout",
          "text": [
            "+----------+--------+--------------+--------------+--------------+--------------+--------------+\n",
            "|      date|sunspots|sunspots_lag_1|sunspots_lag_2|sunspots_lag_3|sunspots_lag_4|sunspots_lag_5|\n",
            "+----------+--------+--------------+--------------+--------------+--------------+--------------+\n",
            "|1749-01-31|    96.7|          null|          null|          null|          null|          null|\n",
            "|1749-01-28|   104.3|          96.7|          null|          null|          null|          null|\n",
            "|1749-01-31|   116.7|         104.3|          96.7|          null|          null|          null|\n",
            "|1749-01-30|    92.8|         116.7|         104.3|          96.7|          null|          null|\n",
            "|1749-01-31|   141.7|          92.8|         116.7|         104.3|          96.7|          null|\n",
            "+----------+--------+--------------+--------------+--------------+--------------+--------------+\n",
            "only showing top 5 rows\n",
            "\n"
          ]
        }
      ]
    },
    {
      "cell_type": "markdown",
      "source": [
        "## Moving average over lag window"
      ],
      "metadata": {
        "id": "JC9qIyyriT0i"
      }
    },
    {
      "cell_type": "code",
      "source": [
        "mavg_window = Window.rowsBetween(-n_lags, 0)\n",
        "str_mov_avg = 'sunspots'+'_' + str(n_lags)+'_moving_avg'\n",
        "data_lag = data_lag.withColumn(str_mov_avg, avg(data_lag['sunspots']).over(mavg_window))\n",
        "features.append(str_mov_avg)\n",
        "data_lag.show(5)"
      ],
      "metadata": {
        "colab": {
          "base_uri": "https://localhost:8080/"
        },
        "id": "5OhM2b6liT9N",
        "outputId": "80275b61-55c9-436b-989b-18fb004d834f"
      },
      "execution_count": null,
      "outputs": [
        {
          "output_type": "stream",
          "name": "stdout",
          "text": [
            "+----------+--------+--------------+--------------+--------------+--------------+--------------+---------------------+\n",
            "|      date|sunspots|sunspots_lag_1|sunspots_lag_2|sunspots_lag_3|sunspots_lag_4|sunspots_lag_5|sunspots_5_moving_avg|\n",
            "+----------+--------+--------------+--------------+--------------+--------------+--------------+---------------------+\n",
            "|1749-01-31|    96.7|          null|          null|          null|          null|          null|                 96.7|\n",
            "|1749-01-28|   104.3|          96.7|          null|          null|          null|          null|                100.5|\n",
            "|1749-01-31|   116.7|         104.3|          96.7|          null|          null|          null|   105.89999999999999|\n",
            "|1749-01-30|    92.8|         116.7|         104.3|          96.7|          null|          null|              102.625|\n",
            "|1749-01-31|   141.7|          92.8|         116.7|         104.3|          96.7|          null|   110.44000000000001|\n",
            "+----------+--------+--------------+--------------+--------------+--------------+--------------+---------------------+\n",
            "only showing top 5 rows\n",
            "\n"
          ]
        }
      ]
    },
    {
      "cell_type": "markdown",
      "source": [
        "## Time Series Trends"
      ],
      "metadata": {
        "id": "LbuQAKcgmdDQ"
      }
    },
    {
      "cell_type": "markdown",
      "source": [
        "How do sunspots change from one month to the next? Use this sign variable to find out"
      ],
      "metadata": {
        "id": "0Zrz5pZLnBLF"
      }
    },
    {
      "cell_type": "code",
      "source": [
        "# if current sunspots > time-lagged sunspots then sign = +1.0\n",
        "# if current sunspots < time-lagged sunspots then sign = -1.0\n",
        "data_lag = data_lag.withColumn(\"Series\",lit('Univariate'))       \n",
        "trend_window = Window.orderBy(\"Series\")\n",
        "for i in range(n_lags):\n",
        "    str_sign = 'sunspots' +'_lag_'+str(i+1)+'_sign'\n",
        "    data_lag = data_lag.withColumn(str_sign,\\\n",
        "                        signum((data_lag['sunspots'] - lag(data_lag['sunspots'],i+1).over(trend_window))))\n",
        "    features.append(str_sign)\n",
        "\n",
        "data_lag = data_lag.drop(\"Series\")\n",
        "\n",
        "data_lag.show(5)"
      ],
      "metadata": {
        "colab": {
          "base_uri": "https://localhost:8080/"
        },
        "id": "tBT1NS-DmjLH",
        "outputId": "d48f0393-84c9-46ac-cc39-bac36ba3d521"
      },
      "execution_count": null,
      "outputs": [
        {
          "output_type": "stream",
          "name": "stdout",
          "text": [
            "+----------+--------+--------------+--------------+--------------+--------------+--------------+---------------------+-------------------+-------------------+-------------------+-------------------+-------------------+\n",
            "|      date|sunspots|sunspots_lag_1|sunspots_lag_2|sunspots_lag_3|sunspots_lag_4|sunspots_lag_5|sunspots_5_moving_avg|sunspots_lag_1_sign|sunspots_lag_2_sign|sunspots_lag_3_sign|sunspots_lag_4_sign|sunspots_lag_5_sign|\n",
            "+----------+--------+--------------+--------------+--------------+--------------+--------------+---------------------+-------------------+-------------------+-------------------+-------------------+-------------------+\n",
            "|1749-01-31|    96.7|          null|          null|          null|          null|          null|                 96.7|               null|               null|               null|               null|               null|\n",
            "|1749-01-28|   104.3|          96.7|          null|          null|          null|          null|                100.5|                1.0|               null|               null|               null|               null|\n",
            "|1749-01-31|   116.7|         104.3|          96.7|          null|          null|          null|   105.89999999999999|                1.0|                1.0|               null|               null|               null|\n",
            "|1749-01-30|    92.8|         116.7|         104.3|          96.7|          null|          null|              102.625|               -1.0|               -1.0|               -1.0|               null|               null|\n",
            "|1749-01-31|   141.7|          92.8|         116.7|         104.3|          96.7|          null|   110.44000000000001|                1.0|                1.0|                1.0|                1.0|               null|\n",
            "+----------+--------+--------------+--------------+--------------+--------------+--------------+---------------------+-------------------+-------------------+-------------------+-------------------+-------------------+\n",
            "only showing top 5 rows\n",
            "\n"
          ]
        }
      ]
    },
    {
      "cell_type": "markdown",
      "source": [
        "## Put all above data manipulations into one function"
      ],
      "metadata": {
        "id": "HnzAcfgtKX2k"
      }
    },
    {
      "cell_type": "code",
      "source": [
        "def create_ts_vars(data, n_lags, features):\n",
        "\n",
        "  ## LAG VARS ######################################################################\n",
        "  # add col to partition by\n",
        "  data = data.withColumn(\"Series\",lit('Univariate'))\n",
        "\n",
        "  # set up window\n",
        "  lag_window = Window.orderBy(\"Series\")\n",
        "\n",
        "  for i in range(n_lags):\n",
        "      str_lag = 'sunspots'+'_lag_'+str(i+1)\n",
        "      data = data.withColumn(str_lag, lag(data['sunspots'], i+1).over(lag_window))\n",
        "      features.append(str_lag)\n",
        "      \n",
        "  data = data.drop('Series')   \n",
        "\n",
        "  ## MOVING AVG VAR ##############################################################\n",
        "  mavg_window = Window.rowsBetween(-n_lags, 0)\n",
        "  str_mov_avg = 'sunspots'+'_' + str(n_lags)+'_moving_avg'\n",
        "  data = data.withColumn(str_mov_avg, avg(data['sunspots']).over(mavg_window))\n",
        "  features.append(str_mov_avg)\n",
        "\n",
        "  ## TREND VAR ###################################################################\n",
        "  # if current sunspots > time-lagged sunspots then sign = +1.0\n",
        "  # if current sunspots < time-lagged sunspots then sign = -1.0\n",
        "  data = data.withColumn(\"Series\",lit('Univariate'))       \n",
        "  trend_window = Window.orderBy(\"Series\")\n",
        "  for i in range(n_lags):\n",
        "      str_sign = 'sunspots' +'_lag_'+str(i+1)+'_sign'\n",
        "      data = data.withColumn(str_sign,\\\n",
        "                          signum((data['sunspots'] - lag(data['sunspots'],i+1).over(trend_window))))\n",
        "      features.append(str_sign)\n",
        "      \n",
        "  data = data.drop(\"Series\")\n",
        "  \n",
        "  return(data)"
      ],
      "metadata": {
        "id": "IEB05Tf0Ka6A"
      },
      "execution_count": null,
      "outputs": []
    },
    {
      "cell_type": "markdown",
      "source": [
        "## Train/Test Split"
      ],
      "metadata": {
        "id": "91ZZETUIrU78"
      }
    },
    {
      "cell_type": "code",
      "source": [
        "def split_time_series(data, train_ratio=0.7):\n",
        "     \n",
        "    # split data into train and test but maintain time-order\n",
        "    newSchema  = StructType(data.schema.fields + \\\n",
        "                [StructField('Row Number', LongType(), False)])\n",
        "    new_rdd = data.rdd.zipWithIndex().map(lambda x: list(x[0]) + [x[1]])\n",
        "\n",
        "    # create new df with row number\n",
        "    new_df = spark.createDataFrame(new_rdd, newSchema)\n",
        "    total_rows = new_df.count()\n",
        "    splitFraction  =int(total_rows*train_ratio)\n",
        "\n",
        "    df_train = new_df.where(new_df['Row Number'] >= 0)\\\n",
        "                   .where(new_df['Row Number'] <= splitFraction)\n",
        "    df_test = new_df.where(new_df['Row Number'] > splitFraction)\n",
        "    \n",
        "    return df_train, df_test"
      ],
      "metadata": {
        "id": "eVCI5-uqrYIa"
      },
      "execution_count": null,
      "outputs": []
    },
    {
      "cell_type": "markdown",
      "source": [
        "## Set up data for modeling"
      ],
      "metadata": {
        "id": "TsU3YS48qmde"
      }
    },
    {
      "cell_type": "code",
      "source": [
        "def data_for_modeling(data, forecast_months):\n",
        "  # create label \n",
        "  lead_window = Window.rowsBetween(0,forecast_months)   \n",
        "  data = data.withColumn(\"label\", last(data['sunspots']).over(lead_window))\n",
        "  \n",
        "  # vector assembler\n",
        "  data = data.dropna()\n",
        "  assembler = VectorAssembler().setInputCols(features).setOutputCol(\"features\")\n",
        "  data_transformed = assembler.transform(data)\n",
        "\n",
        "  return(data_transformed)"
      ],
      "metadata": {
        "id": "Qt6YqqMdohgA"
      },
      "execution_count": null,
      "outputs": []
    },
    {
      "cell_type": "markdown",
      "source": [
        "# Helper Functions"
      ],
      "metadata": {
        "id": "Q4krf47Rwdnr"
      }
    },
    {
      "cell_type": "markdown",
      "source": [
        "## Check that distribution is stationary "
      ],
      "metadata": {
        "id": "AuXyfexq0M7F"
      }
    },
    {
      "cell_type": "code",
      "source": [
        "def CheckStationarity(timeSeriesCol):\n",
        "    \n",
        "    # this function works with Pandas dataframe only not with spark dataframes\n",
        "    # this performs Augmented Dickey-Fuller's test\n",
        "    \n",
        "    test_result = ts.adfuller(timeSeriesCol.values)\n",
        "    print('ADF Statistic : %f \\n' %test_result[0])\n",
        "    print('p-value : %f \\n' %test_result[1])\n",
        "    print('Critical values are: \\n')\n",
        "    print(test_result[4])"
      ],
      "metadata": {
        "id": "nr_hkb0wwg8s"
      },
      "execution_count": null,
      "outputs": []
    },
    {
      "cell_type": "markdown",
      "source": [
        "## Prediction"
      ],
      "metadata": {
        "id": "w207f4kZ0pj5"
      }
    },
    {
      "cell_type": "code",
      "source": [
        "def Predict(I, df1, df2, timeSeriesCol, predictionCol, joinCol):\n",
        "    \n",
        "    # converts differenced predictions to raw predictions\n",
        "    dZCol = 'DeltaZ'+str(i) \n",
        "    f_strCol = 'forecast_'+str(i)+'day'\n",
        "    df = df1.join(df2, [joinCol], how='inner').orderBy(asc('Date'))\n",
        "    df = df.withColumnRenamed(predictionCol, dZCol)\n",
        "    df = df.withColumn(f_strCol, col(dZCol)+col(timeSeriesCol))\n",
        "\n",
        "    return df"
      ],
      "metadata": {
        "id": "5MlYiCnq0sCN"
      },
      "execution_count": null,
      "outputs": []
    },
    {
      "cell_type": "markdown",
      "source": [
        "## Save results for comparison"
      ],
      "metadata": {
        "id": "JjoAknoYFXg4"
      }
    },
    {
      "cell_type": "markdown",
      "source": [
        "# Data for Modeling"
      ],
      "metadata": {
        "id": "w3K-ej0TI8TR"
      }
    },
    {
      "cell_type": "markdown",
      "source": [
        "1. Run create_ts_vars using desired variables"
      ],
      "metadata": {
        "id": "myqrsbu7LmCB"
      }
    },
    {
      "cell_type": "code",
      "source": [
        "n_lags = 12*5\n",
        "data_lag = data.select('*')\n",
        "features = ['sunspots']\n",
        "forecast_months = 10"
      ],
      "metadata": {
        "id": "pWW_VlDW-GQU"
      },
      "execution_count": null,
      "outputs": []
    },
    {
      "cell_type": "code",
      "source": [
        "data_lag = create_ts_vars(data_lag, n_lags, features)\n",
        "data_lag.show(10)"
      ],
      "metadata": {
        "colab": {
          "base_uri": "https://localhost:8080/"
        },
        "id": "QZ5JXBa7LlcM",
        "outputId": "4a0a455f-0f0e-4819-f7b2-cd73680f8285"
      },
      "execution_count": null,
      "outputs": [
        {
          "output_type": "stream",
          "name": "stdout",
          "text": [
            "+----------+--------+--------------+--------------+--------------+--------------+--------------+--------------+--------------+--------------+--------------+---------------+---------------+---------------+---------------+---------------+---------------+---------------+---------------+---------------+---------------+---------------+---------------+---------------+---------------+---------------+---------------+---------------+---------------+---------------+---------------+---------------+---------------+---------------+---------------+---------------+---------------+---------------+---------------+---------------+---------------+---------------+---------------+---------------+---------------+---------------+---------------+---------------+---------------+---------------+---------------+---------------+---------------+---------------+---------------+---------------+---------------+---------------+---------------+---------------+---------------+---------------+----------------------+-------------------+-------------------+-------------------+-------------------+-------------------+-------------------+-------------------+-------------------+-------------------+--------------------+--------------------+--------------------+--------------------+--------------------+--------------------+--------------------+--------------------+--------------------+--------------------+--------------------+--------------------+--------------------+--------------------+--------------------+--------------------+--------------------+--------------------+--------------------+--------------------+--------------------+--------------------+--------------------+--------------------+--------------------+--------------------+--------------------+--------------------+--------------------+--------------------+--------------------+--------------------+--------------------+--------------------+--------------------+--------------------+--------------------+--------------------+--------------------+--------------------+--------------------+--------------------+--------------------+--------------------+--------------------+--------------------+--------------------+--------------------+--------------------+--------------------+--------------------+\n",
            "|      date|sunspots|sunspots_lag_1|sunspots_lag_2|sunspots_lag_3|sunspots_lag_4|sunspots_lag_5|sunspots_lag_6|sunspots_lag_7|sunspots_lag_8|sunspots_lag_9|sunspots_lag_10|sunspots_lag_11|sunspots_lag_12|sunspots_lag_13|sunspots_lag_14|sunspots_lag_15|sunspots_lag_16|sunspots_lag_17|sunspots_lag_18|sunspots_lag_19|sunspots_lag_20|sunspots_lag_21|sunspots_lag_22|sunspots_lag_23|sunspots_lag_24|sunspots_lag_25|sunspots_lag_26|sunspots_lag_27|sunspots_lag_28|sunspots_lag_29|sunspots_lag_30|sunspots_lag_31|sunspots_lag_32|sunspots_lag_33|sunspots_lag_34|sunspots_lag_35|sunspots_lag_36|sunspots_lag_37|sunspots_lag_38|sunspots_lag_39|sunspots_lag_40|sunspots_lag_41|sunspots_lag_42|sunspots_lag_43|sunspots_lag_44|sunspots_lag_45|sunspots_lag_46|sunspots_lag_47|sunspots_lag_48|sunspots_lag_49|sunspots_lag_50|sunspots_lag_51|sunspots_lag_52|sunspots_lag_53|sunspots_lag_54|sunspots_lag_55|sunspots_lag_56|sunspots_lag_57|sunspots_lag_58|sunspots_lag_59|sunspots_lag_60|sunspots_60_moving_avg|sunspots_lag_1_sign|sunspots_lag_2_sign|sunspots_lag_3_sign|sunspots_lag_4_sign|sunspots_lag_5_sign|sunspots_lag_6_sign|sunspots_lag_7_sign|sunspots_lag_8_sign|sunspots_lag_9_sign|sunspots_lag_10_sign|sunspots_lag_11_sign|sunspots_lag_12_sign|sunspots_lag_13_sign|sunspots_lag_14_sign|sunspots_lag_15_sign|sunspots_lag_16_sign|sunspots_lag_17_sign|sunspots_lag_18_sign|sunspots_lag_19_sign|sunspots_lag_20_sign|sunspots_lag_21_sign|sunspots_lag_22_sign|sunspots_lag_23_sign|sunspots_lag_24_sign|sunspots_lag_25_sign|sunspots_lag_26_sign|sunspots_lag_27_sign|sunspots_lag_28_sign|sunspots_lag_29_sign|sunspots_lag_30_sign|sunspots_lag_31_sign|sunspots_lag_32_sign|sunspots_lag_33_sign|sunspots_lag_34_sign|sunspots_lag_35_sign|sunspots_lag_36_sign|sunspots_lag_37_sign|sunspots_lag_38_sign|sunspots_lag_39_sign|sunspots_lag_40_sign|sunspots_lag_41_sign|sunspots_lag_42_sign|sunspots_lag_43_sign|sunspots_lag_44_sign|sunspots_lag_45_sign|sunspots_lag_46_sign|sunspots_lag_47_sign|sunspots_lag_48_sign|sunspots_lag_49_sign|sunspots_lag_50_sign|sunspots_lag_51_sign|sunspots_lag_52_sign|sunspots_lag_53_sign|sunspots_lag_54_sign|sunspots_lag_55_sign|sunspots_lag_56_sign|sunspots_lag_57_sign|sunspots_lag_58_sign|sunspots_lag_59_sign|sunspots_lag_60_sign|\n",
            "+----------+--------+--------------+--------------+--------------+--------------+--------------+--------------+--------------+--------------+--------------+---------------+---------------+---------------+---------------+---------------+---------------+---------------+---------------+---------------+---------------+---------------+---------------+---------------+---------------+---------------+---------------+---------------+---------------+---------------+---------------+---------------+---------------+---------------+---------------+---------------+---------------+---------------+---------------+---------------+---------------+---------------+---------------+---------------+---------------+---------------+---------------+---------------+---------------+---------------+---------------+---------------+---------------+---------------+---------------+---------------+---------------+---------------+---------------+---------------+---------------+---------------+----------------------+-------------------+-------------------+-------------------+-------------------+-------------------+-------------------+-------------------+-------------------+-------------------+--------------------+--------------------+--------------------+--------------------+--------------------+--------------------+--------------------+--------------------+--------------------+--------------------+--------------------+--------------------+--------------------+--------------------+--------------------+--------------------+--------------------+--------------------+--------------------+--------------------+--------------------+--------------------+--------------------+--------------------+--------------------+--------------------+--------------------+--------------------+--------------------+--------------------+--------------------+--------------------+--------------------+--------------------+--------------------+--------------------+--------------------+--------------------+--------------------+--------------------+--------------------+--------------------+--------------------+--------------------+--------------------+--------------------+--------------------+--------------------+--------------------+--------------------+--------------------+\n",
            "|1749-01-31|    96.7|          null|          null|          null|          null|          null|          null|          null|          null|          null|           null|           null|           null|           null|           null|           null|           null|           null|           null|           null|           null|           null|           null|           null|           null|           null|           null|           null|           null|           null|           null|           null|           null|           null|           null|           null|           null|           null|           null|           null|           null|           null|           null|           null|           null|           null|           null|           null|           null|           null|           null|           null|           null|           null|           null|           null|           null|           null|           null|           null|           null|                  96.7|               null|               null|               null|               null|               null|               null|               null|               null|               null|                null|                null|                null|                null|                null|                null|                null|                null|                null|                null|                null|                null|                null|                null|                null|                null|                null|                null|                null|                null|                null|                null|                null|                null|                null|                null|                null|                null|                null|                null|                null|                null|                null|                null|                null|                null|                null|                null|                null|                null|                null|                null|                null|                null|                null|                null|                null|                null|                null|                null|                null|\n",
            "|1749-01-28|   104.3|          96.7|          null|          null|          null|          null|          null|          null|          null|          null|           null|           null|           null|           null|           null|           null|           null|           null|           null|           null|           null|           null|           null|           null|           null|           null|           null|           null|           null|           null|           null|           null|           null|           null|           null|           null|           null|           null|           null|           null|           null|           null|           null|           null|           null|           null|           null|           null|           null|           null|           null|           null|           null|           null|           null|           null|           null|           null|           null|           null|           null|                 100.5|                1.0|               null|               null|               null|               null|               null|               null|               null|               null|                null|                null|                null|                null|                null|                null|                null|                null|                null|                null|                null|                null|                null|                null|                null|                null|                null|                null|                null|                null|                null|                null|                null|                null|                null|                null|                null|                null|                null|                null|                null|                null|                null|                null|                null|                null|                null|                null|                null|                null|                null|                null|                null|                null|                null|                null|                null|                null|                null|                null|                null|\n",
            "|1749-01-31|   116.7|         104.3|          96.7|          null|          null|          null|          null|          null|          null|          null|           null|           null|           null|           null|           null|           null|           null|           null|           null|           null|           null|           null|           null|           null|           null|           null|           null|           null|           null|           null|           null|           null|           null|           null|           null|           null|           null|           null|           null|           null|           null|           null|           null|           null|           null|           null|           null|           null|           null|           null|           null|           null|           null|           null|           null|           null|           null|           null|           null|           null|           null|    105.89999999999999|                1.0|                1.0|               null|               null|               null|               null|               null|               null|               null|                null|                null|                null|                null|                null|                null|                null|                null|                null|                null|                null|                null|                null|                null|                null|                null|                null|                null|                null|                null|                null|                null|                null|                null|                null|                null|                null|                null|                null|                null|                null|                null|                null|                null|                null|                null|                null|                null|                null|                null|                null|                null|                null|                null|                null|                null|                null|                null|                null|                null|                null|\n",
            "|1749-01-30|    92.8|         116.7|         104.3|          96.7|          null|          null|          null|          null|          null|          null|           null|           null|           null|           null|           null|           null|           null|           null|           null|           null|           null|           null|           null|           null|           null|           null|           null|           null|           null|           null|           null|           null|           null|           null|           null|           null|           null|           null|           null|           null|           null|           null|           null|           null|           null|           null|           null|           null|           null|           null|           null|           null|           null|           null|           null|           null|           null|           null|           null|           null|           null|               102.625|               -1.0|               -1.0|               -1.0|               null|               null|               null|               null|               null|               null|                null|                null|                null|                null|                null|                null|                null|                null|                null|                null|                null|                null|                null|                null|                null|                null|                null|                null|                null|                null|                null|                null|                null|                null|                null|                null|                null|                null|                null|                null|                null|                null|                null|                null|                null|                null|                null|                null|                null|                null|                null|                null|                null|                null|                null|                null|                null|                null|                null|                null|                null|\n",
            "|1749-01-31|   141.7|          92.8|         116.7|         104.3|          96.7|          null|          null|          null|          null|          null|           null|           null|           null|           null|           null|           null|           null|           null|           null|           null|           null|           null|           null|           null|           null|           null|           null|           null|           null|           null|           null|           null|           null|           null|           null|           null|           null|           null|           null|           null|           null|           null|           null|           null|           null|           null|           null|           null|           null|           null|           null|           null|           null|           null|           null|           null|           null|           null|           null|           null|           null|    110.44000000000001|                1.0|                1.0|                1.0|                1.0|               null|               null|               null|               null|               null|                null|                null|                null|                null|                null|                null|                null|                null|                null|                null|                null|                null|                null|                null|                null|                null|                null|                null|                null|                null|                null|                null|                null|                null|                null|                null|                null|                null|                null|                null|                null|                null|                null|                null|                null|                null|                null|                null|                null|                null|                null|                null|                null|                null|                null|                null|                null|                null|                null|                null|                null|\n",
            "|1749-01-30|   139.2|         141.7|          92.8|         116.7|         104.3|          96.7|          null|          null|          null|          null|           null|           null|           null|           null|           null|           null|           null|           null|           null|           null|           null|           null|           null|           null|           null|           null|           null|           null|           null|           null|           null|           null|           null|           null|           null|           null|           null|           null|           null|           null|           null|           null|           null|           null|           null|           null|           null|           null|           null|           null|           null|           null|           null|           null|           null|           null|           null|           null|           null|           null|           null|    115.23333333333335|               -1.0|                1.0|                1.0|                1.0|                1.0|               null|               null|               null|               null|                null|                null|                null|                null|                null|                null|                null|                null|                null|                null|                null|                null|                null|                null|                null|                null|                null|                null|                null|                null|                null|                null|                null|                null|                null|                null|                null|                null|                null|                null|                null|                null|                null|                null|                null|                null|                null|                null|                null|                null|                null|                null|                null|                null|                null|                null|                null|                null|                null|                null|                null|\n",
            "|1749-01-31|   158.0|         139.2|         141.7|          92.8|         116.7|         104.3|          96.7|          null|          null|          null|           null|           null|           null|           null|           null|           null|           null|           null|           null|           null|           null|           null|           null|           null|           null|           null|           null|           null|           null|           null|           null|           null|           null|           null|           null|           null|           null|           null|           null|           null|           null|           null|           null|           null|           null|           null|           null|           null|           null|           null|           null|           null|           null|           null|           null|           null|           null|           null|           null|           null|           null|    121.34285714285716|                1.0|                1.0|                1.0|                1.0|                1.0|                1.0|               null|               null|               null|                null|                null|                null|                null|                null|                null|                null|                null|                null|                null|                null|                null|                null|                null|                null|                null|                null|                null|                null|                null|                null|                null|                null|                null|                null|                null|                null|                null|                null|                null|                null|                null|                null|                null|                null|                null|                null|                null|                null|                null|                null|                null|                null|                null|                null|                null|                null|                null|                null|                null|                null|\n",
            "|1749-01-31|   110.5|         158.0|         139.2|         141.7|          92.8|         116.7|         104.3|          96.7|          null|          null|           null|           null|           null|           null|           null|           null|           null|           null|           null|           null|           null|           null|           null|           null|           null|           null|           null|           null|           null|           null|           null|           null|           null|           null|           null|           null|           null|           null|           null|           null|           null|           null|           null|           null|           null|           null|           null|           null|           null|           null|           null|           null|           null|           null|           null|           null|           null|           null|           null|           null|           null|    119.98750000000001|               -1.0|               -1.0|               -1.0|                1.0|               -1.0|                1.0|                1.0|               null|               null|                null|                null|                null|                null|                null|                null|                null|                null|                null|                null|                null|                null|                null|                null|                null|                null|                null|                null|                null|                null|                null|                null|                null|                null|                null|                null|                null|                null|                null|                null|                null|                null|                null|                null|                null|                null|                null|                null|                null|                null|                null|                null|                null|                null|                null|                null|                null|                null|                null|                null|                null|\n",
            "|1749-01-30|   126.5|         110.5|         158.0|         139.2|         141.7|          92.8|         116.7|         104.3|          96.7|          null|           null|           null|           null|           null|           null|           null|           null|           null|           null|           null|           null|           null|           null|           null|           null|           null|           null|           null|           null|           null|           null|           null|           null|           null|           null|           null|           null|           null|           null|           null|           null|           null|           null|           null|           null|           null|           null|           null|           null|           null|           null|           null|           null|           null|           null|           null|           null|           null|           null|           null|           null|    120.71111111111112|                1.0|               -1.0|               -1.0|               -1.0|                1.0|                1.0|                1.0|                1.0|               null|                null|                null|                null|                null|                null|                null|                null|                null|                null|                null|                null|                null|                null|                null|                null|                null|                null|                null|                null|                null|                null|                null|                null|                null|                null|                null|                null|                null|                null|                null|                null|                null|                null|                null|                null|                null|                null|                null|                null|                null|                null|                null|                null|                null|                null|                null|                null|                null|                null|                null|                null|\n",
            "|1749-01-31|   125.8|         126.5|         110.5|         158.0|         139.2|         141.7|          92.8|         116.7|         104.3|          96.7|           null|           null|           null|           null|           null|           null|           null|           null|           null|           null|           null|           null|           null|           null|           null|           null|           null|           null|           null|           null|           null|           null|           null|           null|           null|           null|           null|           null|           null|           null|           null|           null|           null|           null|           null|           null|           null|           null|           null|           null|           null|           null|           null|           null|           null|           null|           null|           null|           null|           null|           null|                121.22|               -1.0|                1.0|               -1.0|               -1.0|               -1.0|                1.0|                1.0|                1.0|                1.0|                null|                null|                null|                null|                null|                null|                null|                null|                null|                null|                null|                null|                null|                null|                null|                null|                null|                null|                null|                null|                null|                null|                null|                null|                null|                null|                null|                null|                null|                null|                null|                null|                null|                null|                null|                null|                null|                null|                null|                null|                null|                null|                null|                null|                null|                null|                null|                null|                null|                null|                null|\n",
            "+----------+--------+--------------+--------------+--------------+--------------+--------------+--------------+--------------+--------------+--------------+---------------+---------------+---------------+---------------+---------------+---------------+---------------+---------------+---------------+---------------+---------------+---------------+---------------+---------------+---------------+---------------+---------------+---------------+---------------+---------------+---------------+---------------+---------------+---------------+---------------+---------------+---------------+---------------+---------------+---------------+---------------+---------------+---------------+---------------+---------------+---------------+---------------+---------------+---------------+---------------+---------------+---------------+---------------+---------------+---------------+---------------+---------------+---------------+---------------+---------------+---------------+----------------------+-------------------+-------------------+-------------------+-------------------+-------------------+-------------------+-------------------+-------------------+-------------------+--------------------+--------------------+--------------------+--------------------+--------------------+--------------------+--------------------+--------------------+--------------------+--------------------+--------------------+--------------------+--------------------+--------------------+--------------------+--------------------+--------------------+--------------------+--------------------+--------------------+--------------------+--------------------+--------------------+--------------------+--------------------+--------------------+--------------------+--------------------+--------------------+--------------------+--------------------+--------------------+--------------------+--------------------+--------------------+--------------------+--------------------+--------------------+--------------------+--------------------+--------------------+--------------------+--------------------+--------------------+--------------------+--------------------+--------------------+--------------------+--------------------+--------------------+--------------------+\n",
            "only showing top 10 rows\n",
            "\n"
          ]
        }
      ]
    },
    {
      "cell_type": "code",
      "source": [
        "len(data_lag.columns)-1"
      ],
      "metadata": {
        "colab": {
          "base_uri": "https://localhost:8080/"
        },
        "id": "eqXvAQbuFSqD",
        "outputId": "562ae2ab-eed9-4d0f-e63f-2d8ebd2169ec"
      },
      "execution_count": null,
      "outputs": [
        {
          "output_type": "execute_result",
          "data": {
            "text/plain": [
              "122"
            ]
          },
          "metadata": {},
          "execution_count": 210
        }
      ]
    },
    {
      "cell_type": "markdown",
      "source": [
        "2. Set up data for modeling (set up label, [features])"
      ],
      "metadata": {
        "id": "KiI_mNxnLumj"
      }
    },
    {
      "cell_type": "code",
      "source": [
        "data_transformed = data_for_modeling(data_lag, forecast_months)"
      ],
      "metadata": {
        "id": "t3gyOgsnLu9A"
      },
      "execution_count": null,
      "outputs": []
    },
    {
      "cell_type": "markdown",
      "source": [
        "3. Train-test split"
      ],
      "metadata": {
        "id": "z7v5VbQ7Nb_j"
      }
    },
    {
      "cell_type": "code",
      "source": [
        "train, test = split_time_series(data_transformed, 0.7)"
      ],
      "metadata": {
        "id": "egpjSvE9Ndpy"
      },
      "execution_count": null,
      "outputs": []
    },
    {
      "cell_type": "code",
      "source": [
        "print(train.count())\n",
        "print(test.count())"
      ],
      "metadata": {
        "colab": {
          "base_uri": "https://localhost:8080/"
        },
        "id": "t6QofgDntqic",
        "outputId": "de5f7873-4c5b-4e1f-b0c4-911fd024869d"
      },
      "execution_count": null,
      "outputs": [
        {
          "output_type": "stream",
          "name": "stdout",
          "text": [
            "2261\n",
            "968\n"
          ]
        }
      ]
    },
    {
      "cell_type": "markdown",
      "source": [
        "Now the data is ready for modeling! "
      ],
      "metadata": {
        "id": "xsa-g0jrMLR7"
      }
    },
    {
      "cell_type": "markdown",
      "source": [
        "# Linear Regression"
      ],
      "metadata": {
        "id": "4sIKGU4zv_2c"
      }
    },
    {
      "cell_type": "code",
      "source": [
        "def lr_fxn(train, test):\n",
        "  # init model\n",
        "  lr = LinearRegression(featuresCol = \"features\", labelCol=\"label\", \\\n",
        "                                maxIter = 100, regParam = 0.4, \\\n",
        "                                elasticNetParam = 0.1)\n",
        "  \n",
        "  # fit model \n",
        "  model = lr.fit(train)\n",
        "  pred_train = model.transform(train)\n",
        "  pred_test = model.transform(test)\n",
        "  \n",
        "\n",
        "  # calc rmse\n",
        "  evaluator = RegressionEvaluator(predictionCol=\"prediction\", labelCol=\"label\", metricName =\"rmse\")\n",
        "  RMSE_train = evaluator.evaluate(pred_train)\n",
        "  RMSE_test= evaluator.evaluate(pred_test)\n",
        "\n",
        "  return train, test, pred_train, pred_test, RMSE_train, RMSE_test"
      ],
      "metadata": {
        "id": "-2BPXNI8vp25"
      },
      "execution_count": null,
      "outputs": []
    },
    {
      "cell_type": "code",
      "source": [
        "lr_train, lr_test, lr_pred_train, lr_pred_test, lr_RMSE_train, lr_RMSE_test = lr_fxn(train, test)\n",
        "\n",
        "lr_pred_train.select(['date', 'label','prediction']).show(5)"
      ],
      "metadata": {
        "colab": {
          "base_uri": "https://localhost:8080/"
        },
        "id": "WS3iY0Rh4y2-",
        "outputId": "47704161-1cab-493f-91a3-643a9c159229"
      },
      "execution_count": null,
      "outputs": [
        {
          "output_type": "stream",
          "name": "stdout",
          "text": [
            "+----------+-----+------------------+\n",
            "|      date|label|        prediction|\n",
            "+----------+-----+------------------+\n",
            "|1752-01-31| 62.7|31.896350369326665|\n",
            "|1752-01-29| 66.7| 35.36469983649058|\n",
            "|1752-01-31| 73.3| 48.56399228673064|\n",
            "|1752-01-30| 53.3| 56.77035669115952|\n",
            "|1752-01-31| 76.2| 63.89659061436963|\n",
            "+----------+-----+------------------+\n",
            "only showing top 5 rows\n",
            "\n"
          ]
        }
      ]
    },
    {
      "cell_type": "code",
      "source": [
        "lr_RMSE_test"
      ],
      "metadata": {
        "colab": {
          "base_uri": "https://localhost:8080/"
        },
        "id": "tsLU-FSc45in",
        "outputId": "a34c0879-8f91-4c42-8b69-298e3c822aed"
      },
      "execution_count": null,
      "outputs": [
        {
          "output_type": "execute_result",
          "data": {
            "text/plain": [
              "35.971695705954666"
            ]
          },
          "metadata": {},
          "execution_count": 205
        }
      ]
    },
    {
      "cell_type": "code",
      "source": [
        "lr_RMSE_train"
      ],
      "metadata": {
        "colab": {
          "base_uri": "https://localhost:8080/"
        },
        "id": "UTClO30_N-N3",
        "outputId": "82fd3bda-3d07-412a-dbbd-6811d38e9950"
      },
      "execution_count": null,
      "outputs": [
        {
          "output_type": "execute_result",
          "data": {
            "text/plain": [
              "34.57541121079317"
            ]
          },
          "metadata": {},
          "execution_count": 206
        }
      ]
    },
    {
      "cell_type": "markdown",
      "source": [
        "Graph"
      ],
      "metadata": {
        "id": "H9IdOydSODN9"
      }
    },
    {
      "cell_type": "code",
      "source": [
        "# label & prediction\n",
        "lr_pred_test_df = lr_pred_test.select(['date', 'label','prediction']).toPandas()\n",
        "\n",
        "fig = plt.figure(figsize=(16,5))\n",
        "plt.plot(lr_pred_test_df['date'], lr_pred_test_df['label'], color='blue', label='actual', alpha=0.5)\n",
        "plt.plot(lr_pred_test_df['date'], lr_pred_test_df['prediction'], color='red', label='prediction', alpha=0.5)\n",
        "plt.xlabel('Date')\n",
        "plt.ylabel('Mean Avg. Monthly Sunspots')\n",
        "plt.title('Linear Regression: Actual Mean Monthly Sunspots vs. Predicted with 3 Year Lag')\n",
        "plt.legend(loc=\"upper right\")\n",
        "\n",
        "plt.show()"
      ],
      "metadata": {
        "id": "p3Ust4NEODv2",
        "colab": {
          "base_uri": "https://localhost:8080/",
          "height": 350
        },
        "outputId": "1c7fd0f7-664f-4190-a740-e09309a596e7"
      },
      "execution_count": null,
      "outputs": [
        {
          "output_type": "display_data",
          "data": {
            "text/plain": [
              "<Figure size 1152x360 with 1 Axes>"
            ],
            "image/png": "[encoded data removed]"
          },
          "metadata": {
            "needs_background": "light"
          }
        }
      ]
    },
    {
      "cell_type": "markdown",
      "source": [
        "# Decision Tree"
      ],
      "metadata": {
        "id": "9QXCX2j5vrKp"
      }
    },
    {
      "cell_type": "code",
      "source": [
        "def dt_fxn(train, test, max_depth=5):\n",
        "  # init\n",
        "  dt = DecisionTreeRegressor(featuresCol = \"features\", labelCol = \"label\", maxDepth = max_depth)\n",
        "\n",
        "  # fit model & get preds\n",
        "  model = dt.fit(train)\n",
        "  pred_train = model.transform(train)\n",
        "  pred_test = model.transform(test)\n",
        "  \n",
        "  # calc rmse\n",
        "  evaluator = RegressionEvaluator(predictionCol=\"prediction\", labelCol=\"label\", metricName =\"rmse\")\n",
        "  RMSE_train = evaluator.evaluate(pred_train)\n",
        "  RMSE_test= evaluator.evaluate(pred_test)\n",
        "\n",
        "  return train, test, pred_train, pred_test, RMSE_train, RMSE_test"
      ],
      "metadata": {
        "id": "jzwlL-XNxGqm"
      },
      "execution_count": null,
      "outputs": []
    },
    {
      "cell_type": "code",
      "source": [
        "dt_train, dt_test, dt_pred_train, dt_pred_test, dt_RMSE_train, dt_RMSE_test = dt_fxn(train, test, max_depth=10)\n",
        "\n",
        "dt_pred_train.select(['date', 'label','prediction']).show(5)"
      ],
      "metadata": {
        "colab": {
          "base_uri": "https://localhost:8080/"
        },
        "id": "sDc0YJ_1Hm38",
        "outputId": "409da16a-699f-47ff-a20e-c07a22e921fd"
      },
      "execution_count": null,
      "outputs": [
        {
          "output_type": "stream",
          "name": "stdout",
          "text": [
            "+----------+-----+------------------+\n",
            "|      date|label|        prediction|\n",
            "+----------+-----+------------------+\n",
            "|1754-01-31| 22.0|13.243333333333336|\n",
            "|1754-01-28|  7.0|18.022522522522525|\n",
            "|1754-01-31| 17.0|18.022522522522525|\n",
            "|1754-01-30| 18.7|13.243333333333336|\n",
            "|1754-01-31| 11.3|13.243333333333336|\n",
            "+----------+-----+------------------+\n",
            "only showing top 5 rows\n",
            "\n"
          ]
        }
      ]
    },
    {
      "cell_type": "code",
      "source": [
        "dt_RMSE_test"
      ],
      "metadata": {
        "colab": {
          "base_uri": "https://localhost:8080/"
        },
        "id": "ME5eyUWzHved",
        "outputId": "9fdb4846-26cb-4341-dc56-87a907b18bc9"
      },
      "execution_count": null,
      "outputs": [
        {
          "output_type": "execute_result",
          "data": {
            "text/plain": [
              "45.475663194110304"
            ]
          },
          "metadata": {},
          "execution_count": 192
        }
      ]
    },
    {
      "cell_type": "code",
      "source": [
        "# label & prediction\n",
        "dt_pred_test_df = dt_pred_test.select(['date', 'label','prediction']).toPandas()\n",
        "\n",
        "fig = plt.figure(figsize=(16,5))\n",
        "plt.plot(dt_pred_test_df['date'], dt_pred_test_df['label'], color='blue', label='actual', alpha=0.5)\n",
        "plt.plot(dt_pred_test_df['date'], dt_pred_test_df['prediction'], color='red', label='prediction', alpha=0.5)\n",
        "plt.xlabel('Date')\n",
        "plt.ylabel('Mean Avg. Monthly Sunspots')\n",
        "plt.title('Decision Trees: Actual Mean Monthly Sunspots vs. Predicted with 5 Year Lag')\n",
        "plt.legend(loc=\"upper right\")\n",
        "\n",
        "plt.show()"
      ],
      "metadata": {
        "colab": {
          "base_uri": "https://localhost:8080/",
          "height": 350
        },
        "id": "F8ZsT0XkHvmj",
        "outputId": "e066c6b7-16d9-4f1b-a957-c06f76c13e2e"
      },
      "execution_count": null,
      "outputs": [
        {
          "output_type": "display_data",
          "data": {
            "text/plain": [
              "<Figure size 1152x360 with 1 Axes>"
            ],
            "image/png": "[encoded data removed]"
          },
          "metadata": {
            "needs_background": "light"
          }
        }
      ]
    },
    {
      "cell_type": "markdown",
      "source": [
        "# Forecast for Best Model"
      ],
      "metadata": {
        "id": "ktr4rsV9OaAZ"
      }
    },
    {
      "cell_type": "markdown",
      "source": [
        "## Time Differencing"
      ],
      "metadata": {
        "id": "y_OQhNEXnQEw"
      }
    },
    {
      "cell_type": "markdown",
      "source": [
        "Function for first-order differencing -- creates stationary"
      ],
      "metadata": {
        "id": "8FIOfrhOoEtE"
      }
    },
    {
      "cell_type": "code",
      "source": [
        "def first_order_diff(data, input_col, output_col):\n",
        "    # performs first-order differencing\n",
        "    lag1_window = window.Window.rowsBetween(-1, 0)\n",
        "    data = data.withColumn(output_col, data[input_col] -  first(data[input_col]).over(lag1_window))\n",
        "    return data"
      ],
      "metadata": {
        "id": "egwu8tXDoNGR"
      },
      "execution_count": null,
      "outputs": []
    },
    {
      "cell_type": "markdown",
      "source": [
        "## Predictions"
      ],
      "metadata": {
        "id": "ZL_t4yZEOx0M"
      }
    },
    {
      "cell_type": "code",
      "source": [
        "def diffed_preds(train, test, model_type, n_lags, forecast_days, filename):\n",
        "    \n",
        "    # this is the main function which calls forecast and predict\n",
        "    # this saves predictions in csv files\n",
        "    \n",
        "    # differencing data to remove non-stationarity\n",
        "    train_diff = first_order_diff(train, 'sunspots', 'diff_sunspots')\n",
        "    test_diff = first_order_diff(test, 'sunspots', 'diff_sunspots')\n",
        "    \n",
        "    RMSE_test = {}\n",
        "    RMSE_train = {}\n",
        "    \n",
        "    # undifference data\n",
        "    for i in range(1, forecast_days+1):\n",
        "    \n",
        "        # training with Spark's ML algorithms    \n",
        "        df_test, df_train, \\\n",
        "        predictions_test, predictions_train,\\\n",
        "        RMSE_ts, RMSE_tr = \\\n",
        "        Forecast(df.select(\"Date\",'sunspots', 'diff_sunspots'),i, n_lags, 'diff_sunspots',model_type)\n",
        "        \n",
        "        RMSE_test.update({'forecast_'+str(i)+'day':RMSE_ts})\n",
        "        RMSE_train.update({'forecast_'+str(i)+'day':RMSE_tr})\n",
        "    \n",
        "    #predictions for training data            \n",
        "        if(i == 1):\n",
        "          #saving the 1-day forecast as separate column\n",
        "            corr_predict_train = Predict(i, df_train.select(\"Row Number\",\n",
        "                                                                                 \"Date\",\\\n",
        "                                                                                 timeSeriesCol),\\\n",
        "                                                         predictions_train.select(\"Row Number\",\\\n",
        "                                                                                                \"prediction\"),\n",
        "                                                         timeSeriesCol,\\\n",
        "                                                         \"prediction\",\\\n",
        "                                                         \"Row Number\")\n",
        "            \n",
        "            corr_predict_test = Predict(i, \\\n",
        "                                                        df_test.select(\"Row Number\",\\\n",
        "                                                                               \"Date\",\\\n",
        "                                                                               timeSeriesCol),\\\n",
        "                                                        predictions_test.select(\"Row Number\",\\\n",
        "                                                                                             \"prediction\"),\n",
        "                                                        timeSeriesCol,\\\n",
        "                                                       \"prediction\",\\\n",
        "                                                       \"Row Number\") \n",
        "        else:\n",
        "            # saving each subsequent forecast as separate column\n",
        "            strCol_prev= \"forecast_\" + str(i-1) + \"day\"\n",
        "corr_predict_train = Predict(i, \\\n",
        "                                                         corr_predict_train,\\\n",
        "                                                         predictions_train.select(\"Row Number\",\\\n",
        "                                                                                                \"prediction\"),\\\n",
        "                                                         strCol_prev,\\\n",
        "                                                         \"prediction\",\\\n",
        "                                                         \"Row Number\")\n",
        "            corr_predict_test = Predict(i, \\\n",
        "                                                        corr_predict_test,\\\n",
        "                                                        predictions_test.select(\"Row Number\",\\\n",
        "                                                                                             \"prediction\"),\\\n",
        "                                                        strCol_prev,\\\n",
        "                                                        \"prediction\",\\\n",
        "                                                        \"Row Number\")\n",
        "# saving actual labels as separate columns\n",
        "        LeadWindow = window.Window.rowsBetween(0, i)    \n",
        "        a_strCol = \"actual_\"+str(i)+\"day\"\n",
        "        corr_predict_test = corr_predict_test.withColumn(\\\n",
        "                                       a_strCol, \\\n",
        "                                       func.last(corr_predict_test[timeSeriesCol])\\\n",
        "                                              .over(LeadWindow))\n",
        "        corr_predict_train = corr_predict_train.withColumn(\\\n",
        "                                         a_strCol, \\\n",
        "                                         func.last(corr_predict_test[timeSeriesCol])\\\n",
        "                                                .over(LeadWindow))\n",
        "# Saving data into csv files\n",
        "    corr_predict_test.write.format(\"csv\").option(\"header\",\"true\")\\\n",
        "                               .save(filename+\"test.csv\")\n",
        "    corr_predict_train.write.format(\"csv\").option(\"header\",\"true\")\\\n",
        "                                 .save(filename+\"train.csv\") \n",
        "    \n",
        "    #error statistics summary  \n",
        "    print(\"Error statistics summary for %s \" %(filename))\n",
        "    print(\"RMSE for train data:\\n\")\n",
        "    print(RMSE_train)\n",
        "    print(\"RMSE for test data:\\n\")\n",
        "    print(RMSE_test)\n",
        "    print('Two output files created')\n",
        "    print('Predictions for train data: %s' %(filename+'train.csv'))\n",
        "    print('Predictions for test data: %s' %(filename +'test.csv'))\n",
        "    return RMSE_train, RMSE_test"
      ],
      "metadata": {
        "id": "p6JJ5LKZc0Ms"
      },
      "execution_count": null,
      "outputs": []
    },
    {
      "cell_type": "markdown",
      "source": [
        "# Stop session"
      ],
      "metadata": {
        "id": "53BV7S5rOGTq"
      }
    },
    {
      "cell_type": "code",
      "source": [
        "spark.stop()"
      ],
      "metadata": {
        "id": "7sSJ5f0UxGJT"
      },
      "execution_count": null,
      "outputs": []
    }
  ]
}