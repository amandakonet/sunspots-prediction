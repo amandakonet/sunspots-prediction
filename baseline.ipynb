{
  "nbformat": 4,
  "nbformat_minor": 0,
  "metadata": {
    "colab": {
      "name": "baseline.ipynb",
      "provenance": [],
      "authorship_tag": "ABX9TyNBXls69oaVuoppRmomyl4B"
    },
    "kernelspec": {
      "name": "python3",
      "display_name": "Python 3"
    },
    "language_info": {
      "name": "python"
    }
  },
  "cells": [
    {
      "cell_type": "code",
      "source": [
        "import pandas as pd\n",
        "import numpy as np\n",
        "import matplotlib.pyplot as plt\n",
        "%matplotlib inline\n",
        "\n",
        "import pyspark\n",
        "from pyspark.sql import *\n",
        "from pyspark.sql.functions import *\n",
        "from pyspark import SparkContext, SparkConf\n",
        "from pyspark.sql import SparkSession\n",
        "from pyspark.ml.regression import LinearRegression, DecisionTreeRegressor\n",
        "from pyspark.ml.feature import VectorAssembler\n",
        "from pyspark.ml.evaluation import RegressionEvaluator\n",
        "from pyspark.sql.types import StructType, StructField, LongType\n",
        "\n",
        "import statsmodels.tsa.stattools as ts"
      ],
      "metadata": {
        "id": "eQNQva0E0w5J"
      },
      "execution_count": null,
      "outputs": []
    },
    {
      "cell_type": "markdown",
      "source": [
        "Helper functions"
      ],
      "metadata": {
        "id": "cjiaIGMH0p2B"
      }
    },
    {
      "cell_type": "code",
      "source": [
        "def data_for_modeling(data, forecast_months):\n",
        "  # create label \n",
        "  lead_window = Window.rowsBetween(0,forecast_months)   \n",
        "  data = data.withColumn(\"label\", last(data['sunspots']).over(lead_window))\n",
        "  \n",
        "  # vector assembler\n",
        "  data = data.dropna()\n",
        "  assembler = VectorAssembler().setInputCols(features).setOutputCol(\"features\")\n",
        "  data_transformed = assembler.transform(data)\n",
        "\n",
        "  return(data_transformed)"
      ],
      "metadata": {
        "id": "tbOKNxba0h82"
      },
      "execution_count": null,
      "outputs": []
    },
    {
      "cell_type": "code",
      "source": [
        "def create_ts_vars(data, n_lags, features):\n",
        "\n",
        "  ## LAG VARS ######################################################################\n",
        "  # add col to partition by\n",
        "  data = data.withColumn(\"Series\",lit('Univariate'))\n",
        "\n",
        "  # set up window\n",
        "  lag_window = Window.orderBy(\"Series\")\n",
        "\n",
        "  for i in range(n_lags):\n",
        "      str_lag = 'sunspots'+'_lag_'+str(i+1)\n",
        "      data = data.withColumn(str_lag, lag(data['sunspots'], i+1).over(lag_window))\n",
        "      features.append(str_lag)\n",
        "      \n",
        "  data = data.drop('Series')   \n",
        "\n",
        "  ## MOVING AVG VAR ##############################################################\n",
        "  mavg_window = Window.rowsBetween(-n_lags, 0)\n",
        "  str_mov_avg = 'sunspots'+'_' + str(n_lags)+'_moving_avg'\n",
        "  data = data.withColumn(str_mov_avg, avg(data['sunspots']).over(mavg_window))\n",
        "  features.append(str_mov_avg)\n",
        "\n",
        "  ## TREND VAR ###################################################################\n",
        "  # if current sunspots > time-lagged sunspots then sign = +1.0\n",
        "  # if current sunspots < time-lagged sunspots then sign = -1.0\n",
        "  data = data.withColumn(\"Series\",lit('Univariate'))       \n",
        "  trend_window = Window.orderBy(\"Series\")\n",
        "  for i in range(n_lags):\n",
        "      str_sign = 'sunspots' +'_lag_'+str(i+1)+'_sign'\n",
        "      data = data.withColumn(str_sign,\\\n",
        "                          signum((data['sunspots'] - lag(data['sunspots'],i+1).over(trend_window))))\n",
        "      features.append(str_sign)\n",
        "      \n",
        "  data = data.drop(\"Series\")\n",
        "  \n",
        "  return(data)"
      ],
      "metadata": {
        "id": "WiMGeMqK0lhs"
      },
      "execution_count": null,
      "outputs": []
    },
    {
      "cell_type": "code",
      "source": [
        "def split_time_series(data, train_ratio=0.7):\n",
        "     \n",
        "    # split data into train and test but maintain time-order\n",
        "    newSchema  = StructType(data.schema.fields + \\\n",
        "                [StructField('Row Number', LongType(), False)])\n",
        "    new_rdd = data.rdd.zipWithIndex().map(lambda x: list(x[0]) + [x[1]])\n",
        "\n",
        "    # create new df with row number\n",
        "    new_df = spark.createDataFrame(new_rdd, newSchema)\n",
        "    total_rows = new_df.count()\n",
        "    splitFraction  =int(total_rows*train_ratio)\n",
        "\n",
        "    df_train = new_df.where(new_df['Row Number'] >= 0)\\\n",
        "                   .where(new_df['Row Number'] <= splitFraction)\n",
        "    df_test = new_df.where(new_df['Row Number'] > splitFraction)\n",
        "    \n",
        "    return df_train, df_test"
      ],
      "metadata": {
        "id": "1QbAISFK0nzT"
      },
      "execution_count": null,
      "outputs": []
    },
    {
      "cell_type": "code",
      "source": [
        "def lr_fxn(train, test):\n",
        "  # init model\n",
        "  lr = LinearRegression(featuresCol = \"features\", labelCol=\"label\", \\\n",
        "                                maxIter = 100, regParam = 0.4, \\\n",
        "                                elasticNetParam = 0.1)\n",
        "  \n",
        "  # fit model \n",
        "  model = lr.fit(train)\n",
        "  pred_train = model.transform(train)\n",
        "  pred_test = model.transform(test)\n",
        "  \n",
        "\n",
        "  # calc rmse\n",
        "  evaluator = RegressionEvaluator(predictionCol=\"prediction\", labelCol=\"label\", metricName =\"rmse\")\n",
        "  RMSE_train = evaluator.evaluate(pred_train)\n",
        "  RMSE_test= evaluator.evaluate(pred_test)\n",
        "\n",
        "  return train, test, pred_train, pred_test, RMSE_train, RMSE_test"
      ],
      "metadata": {
        "id": "SVra-NUz0SJ2"
      },
      "execution_count": null,
      "outputs": []
    },
    {
      "cell_type": "markdown",
      "source": [
        "Set up data for baseline (no lag)"
      ],
      "metadata": {
        "id": "LRjLBo0P0uW2"
      }
    },
    {
      "cell_type": "code",
      "source": [
        "n_lags = 12*0\n",
        "data_lag = data.select('*')\n",
        "features = ['sunspots']\n",
        "forecast_months = 10\n",
        "\n",
        "data_lag = create_ts_vars(data_lag, n_lags, features)\n",
        "data_lag.show(10)\n",
        "\n",
        "data_transformed = data_for_modeling(data_lag, forecast_months)\n",
        "\n",
        "train, test = split_time_series(data_transformed, 0.7)"
      ],
      "metadata": {
        "id": "afQmsQIO0U7R"
      },
      "execution_count": null,
      "outputs": []
    },
    {
      "cell_type": "markdown",
      "source": [
        "Run Baseline"
      ],
      "metadata": {
        "id": "aeXZxiWm0r5P"
      }
    },
    {
      "cell_type": "code",
      "execution_count": null,
      "metadata": {
        "id": "KJJwxRbViIIZ"
      },
      "outputs": [],
      "source": [
        "lr_train, lr_test, lr_pred_train, lr_pred_test, lr_RMSE_train, lr_RMSE_test = lr_fxn(train, test)\n",
        "\n",
        "lr_pred_train.select(['date', 'label','prediction']).show(5)"
      ]
    },
    {
      "cell_type": "code",
      "source": [
        "lr_RMSE_test"
      ],
      "metadata": {
        "id": "Dbox0b440MbY"
      },
      "execution_count": null,
      "outputs": []
    },
    {
      "cell_type": "code",
      "source": [
        "lr_RMSE_train"
      ],
      "metadata": {
        "id": "SSYFTVuz0OQU"
      },
      "execution_count": null,
      "outputs": []
    }
  ]
}