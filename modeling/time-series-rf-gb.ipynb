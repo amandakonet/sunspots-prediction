{
 "cells": [
  {
   "cell_type": "markdown",
   "metadata": {
    "id": "dS-Dy6JgXBFB"
   },
   "source": [
    "# Time series modeling: Random Forest and Gradient Boosting"
   ]
  },
  {
   "cell_type": "markdown",
   "metadata": {
    "id": "PrWmGVesJMnM"
   },
   "source": [
    "Notebook to add time series variables to models using pyspark. Based on [this blog post](https://medium.com/analytics-vidhya/time-series-forecasting-using-spark-ml-part-2-31506514c643)"
   ]
  },
  {
   "cell_type": "code",
   "execution_count": 1,
   "metadata": {
    "colab": {
     "base_uri": "https://localhost:8080/"
    },
    "executionInfo": {
     "elapsed": 18102,
     "status": "ok",
     "timestamp": 1650433256840,
     "user": {
      "displayName": "Kayla Johnson",
      "userId": "00411486830621541483"
     },
     "user_tz": 300
    },
    "id": "namo9-KtXaq6",
    "outputId": "96e6f2d8-5202-45c6-a35f-f5eb815e57d6"
   },
   "outputs": [
    {
     "name": "stderr",
     "output_type": "stream",
     "text": [
      "/opt/conda/anaconda/lib/python3.7/site-packages/statsmodels/tools/_testing.py:19: FutureWarning: pandas.util.testing is deprecated. Use the functions in the public API at pandas.testing instead.\n",
      "  import pandas.util.testing as tm\n"
     ]
    }
   ],
   "source": [
    "import pandas as pd\n",
    "import numpy as np\n",
    "import matplotlib.pyplot as plt\n",
    "%matplotlib inline\n",
    "\n",
    "import pyspark\n",
    "from pyspark.sql import *\n",
    "from pyspark.sql.functions import *\n",
    "from pyspark import SparkContext, SparkConf\n",
    "from pyspark.sql import SparkSession\n",
    "from pyspark.ml.regression import LinearRegression, DecisionTreeRegressor\n",
    "from pyspark.ml.feature import VectorAssembler\n",
    "from pyspark.ml.evaluation import RegressionEvaluator\n",
    "from pyspark.sql.types import StructType, StructField, LongType\n",
    "\n",
    "import statsmodels.tsa.stattools as ts"
   ]
  },
  {
   "cell_type": "code",
   "execution_count": 2,
   "metadata": {
    "executionInfo": {
     "elapsed": 13296,
     "status": "ok",
     "timestamp": 1650433392440,
     "user": {
      "displayName": "Kayla Johnson",
      "userId": "00411486830621541483"
     },
     "user_tz": 300
    },
    "id": "LOZ0iCf5YOK0"
   },
   "outputs": [],
   "source": [
    "# start session\n",
    "spark = SparkSession.builder.master(\"local[5]\").appName(\"groupbyagg\").getOrCreate()"
   ]
  },
  {
   "cell_type": "markdown",
   "metadata": {
    "id": "ugWGPRGgXtbS"
   },
   "source": [
    "# Data"
   ]
  },
  {
   "cell_type": "code",
   "execution_count": 3,
   "metadata": {
    "colab": {
     "base_uri": "https://localhost:8080/"
    },
    "executionInfo": {
     "elapsed": 534,
     "status": "ok",
     "timestamp": 1650433406513,
     "user": {
      "displayName": "Kayla Johnson",
      "userId": "00411486830621541483"
     },
     "user_tz": 300
    },
    "id": "z1vhGhfqdBmS",
    "outputId": "c14a2e84-f1d3-42f9-d342-f7510d0b7bdc"
   },
   "outputs": [
    {
     "name": "stdout",
     "output_type": "stream",
     "text": [
      "+----------+--------+\n",
      "|      date|sunspots|\n",
      "+----------+--------+\n",
      "|1749-01-31|    96.7|\n",
      "+----------+--------+\n",
      "only showing top 1 row\n",
      "\n"
     ]
    }
   ],
   "source": [
    "data = spark.read.csv('hdfs://cluster-7b78-m/user/dataproc/Sunspots.csv',inferSchema=True,header=True)\n",
    "data = data.withColumnRenamed('Monthly Mean Total Sunspot Number', 'sunspots')\n",
    "data = data.select(to_date(col(\"date\"),\"yyyy-mm-dd\").alias(\"date\"), 'sunspots')\n",
    "data.show(1)"
   ]
  },
  {
   "cell_type": "code",
   "execution_count": 4,
   "metadata": {
    "colab": {
     "base_uri": "https://localhost:8080/"
    },
    "executionInfo": {
     "elapsed": 14,
     "status": "ok",
     "timestamp": 1650433406513,
     "user": {
      "displayName": "Kayla Johnson",
      "userId": "00411486830621541483"
     },
     "user_tz": 300
    },
    "id": "AfpZmysyt6al",
    "outputId": "4089c67f-b34a-4e42-f733-3ed5fa4ecfb2"
   },
   "outputs": [
    {
     "name": "stdout",
     "output_type": "stream",
     "text": [
      "root\n",
      " |-- date: date (nullable = true)\n",
      " |-- sunspots: double (nullable = true)\n",
      "\n"
     ]
    }
   ],
   "source": [
    "data.printSchema()"
   ]
  },
  {
   "cell_type": "markdown",
   "metadata": {
    "id": "YQySdOTTcn4N"
   },
   "source": [
    "# Create Variables"
   ]
  },
  {
   "cell_type": "markdown",
   "metadata": {
    "id": "4XQrDxpAk2C-"
   },
   "source": [
    "Before running the next code, set the following variables:\n",
    "* n_lags: the number of previous months to lag with\n",
    "* data_lag: a new dataframe to put lagged variables in\n",
    "* features: a list of the features created (for use in vectorassembler later)\n",
    "* forecast_months: number of time-steps to forecast (for example, we could say 10 and get the predicted average sunspots for the next 10 months)"
   ]
  },
  {
   "cell_type": "code",
   "execution_count": 5,
   "metadata": {
    "executionInfo": {
     "elapsed": 208,
     "status": "ok",
     "timestamp": 1650433406716,
     "user": {
      "displayName": "Kayla Johnson",
      "userId": "00411486830621541483"
     },
     "user_tz": 300
    },
    "id": "YoGVf8__lFbA"
   },
   "outputs": [],
   "source": [
    "n_lags = 5\n",
    "data_lag = data.select('*')\n",
    "features = ['sunspots']\n",
    "forecast_months = 10"
   ]
  },
  {
   "cell_type": "markdown",
   "metadata": {
    "id": "Raf73upzeIRE"
   },
   "source": [
    "## Create lags\n",
    "\n",
    "Create the time-lagged mean sunspot values"
   ]
  },
  {
   "cell_type": "code",
   "execution_count": 6,
   "metadata": {
    "colab": {
     "base_uri": "https://localhost:8080/"
    },
    "executionInfo": {
     "elapsed": 2388,
     "status": "ok",
     "timestamp": 1650433409102,
     "user": {
      "displayName": "Kayla Johnson",
      "userId": "00411486830621541483"
     },
     "user_tz": 300
    },
    "id": "wzW2FJ9gg6LL",
    "outputId": "09c45098-cfdd-4680-90ef-edc25708fd8c"
   },
   "outputs": [
    {
     "name": "stdout",
     "output_type": "stream",
     "text": [
      "+----------+--------+--------------+--------------+--------------+--------------+--------------+\n",
      "|      date|sunspots|sunspots_lag_1|sunspots_lag_2|sunspots_lag_3|sunspots_lag_4|sunspots_lag_5|\n",
      "+----------+--------+--------------+--------------+--------------+--------------+--------------+\n",
      "|1749-01-31|    96.7|          null|          null|          null|          null|          null|\n",
      "|1749-02-28|   104.3|          96.7|          null|          null|          null|          null|\n",
      "|1749-03-31|   116.7|         104.3|          96.7|          null|          null|          null|\n",
      "|1749-04-30|    92.8|         116.7|         104.3|          96.7|          null|          null|\n",
      "|1749-05-31|   141.7|          92.8|         116.7|         104.3|          96.7|          null|\n",
      "+----------+--------+--------------+--------------+--------------+--------------+--------------+\n",
      "only showing top 5 rows\n",
      "\n"
     ]
    }
   ],
   "source": [
    "# add col to partition by\n",
    "data_lag = data_lag.withColumn(\"Series\",lit('Univariate'))\n",
    "\n",
    "# set up window\n",
    "lag_window = Window.orderBy(\"Series\")\n",
    "\n",
    "for i in range(n_lags):\n",
    "    str_lag = 'sunspots'+'_lag_'+str(i+1)\n",
    "    data_lag = data_lag.withColumn(str_lag,\n",
    "                                   lag(data_lag['sunspots'], i+1).over(lag_window))\n",
    "    features.append(str_lag)\n",
    "    \n",
    "data_lag = data_lag.drop('Series')    \n",
    "data_lag.show(5)"
   ]
  },
  {
   "cell_type": "markdown",
   "metadata": {
    "id": "JC9qIyyriT0i"
   },
   "source": [
    "## Moving average over lag window"
   ]
  },
  {
   "cell_type": "code",
   "execution_count": 7,
   "metadata": {
    "colab": {
     "base_uri": "https://localhost:8080/"
    },
    "executionInfo": {
     "elapsed": 795,
     "status": "ok",
     "timestamp": 1650433409893,
     "user": {
      "displayName": "Kayla Johnson",
      "userId": "00411486830621541483"
     },
     "user_tz": 300
    },
    "id": "5OhM2b6liT9N",
    "outputId": "dc3bc7a5-f554-4936-be28-ae78f09b0a93"
   },
   "outputs": [
    {
     "name": "stdout",
     "output_type": "stream",
     "text": [
      "+----------+--------+--------------+--------------+--------------+--------------+--------------+---------------------+\n",
      "|      date|sunspots|sunspots_lag_1|sunspots_lag_2|sunspots_lag_3|sunspots_lag_4|sunspots_lag_5|sunspots_5_moving_avg|\n",
      "+----------+--------+--------------+--------------+--------------+--------------+--------------+---------------------+\n",
      "|1749-01-31|    96.7|          null|          null|          null|          null|          null|                 96.7|\n",
      "|1749-02-28|   104.3|          96.7|          null|          null|          null|          null|                100.5|\n",
      "|1749-03-31|   116.7|         104.3|          96.7|          null|          null|          null|   105.89999999999999|\n",
      "|1749-04-30|    92.8|         116.7|         104.3|          96.7|          null|          null|              102.625|\n",
      "|1749-05-31|   141.7|          92.8|         116.7|         104.3|          96.7|          null|   110.44000000000001|\n",
      "+----------+--------+--------------+--------------+--------------+--------------+--------------+---------------------+\n",
      "only showing top 5 rows\n",
      "\n"
     ]
    }
   ],
   "source": [
    "mavg_window = Window.rowsBetween(-n_lags, 0)\n",
    "str_mov_avg = 'sunspots'+'_' + str(n_lags)+'_moving_avg'\n",
    "data_lag = data_lag.withColumn(str_mov_avg, avg(data_lag['sunspots']).over(mavg_window))\n",
    "features.append(str_mov_avg)\n",
    "data_lag.show(5)"
   ]
  },
  {
   "cell_type": "markdown",
   "metadata": {
    "id": "LbuQAKcgmdDQ"
   },
   "source": [
    "## Time Series Trends"
   ]
  },
  {
   "cell_type": "markdown",
   "metadata": {
    "id": "0Zrz5pZLnBLF"
   },
   "source": [
    "How do sunspots change from one month to the next? Use this sign variable to find out"
   ]
  },
  {
   "cell_type": "code",
   "execution_count": 8,
   "metadata": {
    "colab": {
     "base_uri": "https://localhost:8080/"
    },
    "executionInfo": {
     "elapsed": 1731,
     "status": "ok",
     "timestamp": 1650433411622,
     "user": {
      "displayName": "Kayla Johnson",
      "userId": "00411486830621541483"
     },
     "user_tz": 300
    },
    "id": "tBT1NS-DmjLH",
    "outputId": "38055622-99ec-4b94-af13-ac5031507be8"
   },
   "outputs": [
    {
     "name": "stdout",
     "output_type": "stream",
     "text": [
      "+----------+--------+--------------+--------------+--------------+--------------+--------------+---------------------+-------------------+-------------------+-------------------+-------------------+-------------------+\n",
      "|      date|sunspots|sunspots_lag_1|sunspots_lag_2|sunspots_lag_3|sunspots_lag_4|sunspots_lag_5|sunspots_5_moving_avg|sunspots_lag_1_sign|sunspots_lag_2_sign|sunspots_lag_3_sign|sunspots_lag_4_sign|sunspots_lag_5_sign|\n",
      "+----------+--------+--------------+--------------+--------------+--------------+--------------+---------------------+-------------------+-------------------+-------------------+-------------------+-------------------+\n",
      "|1749-01-31|    96.7|          null|          null|          null|          null|          null|                 96.7|               null|               null|               null|               null|               null|\n",
      "|1749-02-28|   104.3|          96.7|          null|          null|          null|          null|                100.5|                1.0|               null|               null|               null|               null|\n",
      "|1749-03-31|   116.7|         104.3|          96.7|          null|          null|          null|   105.89999999999999|                1.0|                1.0|               null|               null|               null|\n",
      "|1749-04-30|    92.8|         116.7|         104.3|          96.7|          null|          null|              102.625|               -1.0|               -1.0|               -1.0|               null|               null|\n",
      "|1749-05-31|   141.7|          92.8|         116.7|         104.3|          96.7|          null|   110.44000000000001|                1.0|                1.0|                1.0|                1.0|               null|\n",
      "+----------+--------+--------------+--------------+--------------+--------------+--------------+---------------------+-------------------+-------------------+-------------------+-------------------+-------------------+\n",
      "only showing top 5 rows\n",
      "\n"
     ]
    }
   ],
   "source": [
    "# if current sunspots > time-lagged sunspots then sign = +1.0\n",
    "# if current sunspots < time-lagged sunspots then sign = -1.0\n",
    "data_lag = data_lag.withColumn(\"Series\",lit('Univariate'))       \n",
    "trend_window = Window.orderBy(\"Series\")\n",
    "for i in range(n_lags):\n",
    "    str_sign = 'sunspots' +'_lag_'+str(i+1)+'_sign'\n",
    "    data_lag = data_lag.withColumn(str_sign,\\\n",
    "                        signum((data_lag['sunspots'] - lag(data_lag['sunspots'],i+1).over(trend_window))))\n",
    "    features.append(str_sign)\n",
    "\n",
    "data_lag = data_lag.drop(\"Series\")\n",
    "\n",
    "data_lag.show(5)"
   ]
  },
  {
   "cell_type": "markdown",
   "metadata": {
    "id": "HnzAcfgtKX2k"
   },
   "source": [
    "## Put all above data manipulations into one function"
   ]
  },
  {
   "cell_type": "code",
   "execution_count": 9,
   "metadata": {
    "executionInfo": {
     "elapsed": 8,
     "status": "ok",
     "timestamp": 1650433411623,
     "user": {
      "displayName": "Kayla Johnson",
      "userId": "00411486830621541483"
     },
     "user_tz": 300
    },
    "id": "IEB05Tf0Ka6A"
   },
   "outputs": [],
   "source": [
    "def create_ts_vars(data, n_lags, features):\n",
    "\n",
    "  ## LAG VARS ######################################################################\n",
    "  # add col to partition by\n",
    "  data = data.withColumn(\"Series\",lit('Univariate'))\n",
    "\n",
    "  # set up window\n",
    "  lag_window = Window.orderBy(\"Series\")\n",
    "\n",
    "  for i in range(n_lags):\n",
    "      str_lag = 'sunspots'+'_lag_'+str(i+1)\n",
    "      data = data.withColumn(str_lag, lag(data['sunspots'], i+1).over(lag_window))\n",
    "      features.append(str_lag)\n",
    "      \n",
    "  data = data.drop('Series')   \n",
    "\n",
    "  ## MOVING AVG VAR ##############################################################\n",
    "  mavg_window = Window.rowsBetween(-n_lags, 0)\n",
    "  str_mov_avg = 'sunspots'+'_' + str(n_lags)+'_moving_avg'\n",
    "  data = data.withColumn(str_mov_avg, avg(data['sunspots']).over(mavg_window))\n",
    "  features.append(str_mov_avg)\n",
    "\n",
    "  ## TREND VAR ###################################################################\n",
    "  # if current sunspots > time-lagged sunspots then sign = +1.0\n",
    "  # if current sunspots < time-lagged sunspots then sign = -1.0\n",
    "  data = data.withColumn(\"Series\",lit('Univariate'))       \n",
    "  trend_window = Window.orderBy(\"Series\")\n",
    "  for i in range(n_lags):\n",
    "      str_sign = 'sunspots' +'_lag_'+str(i+1)+'_sign'\n",
    "      data = data.withColumn(str_sign,\\\n",
    "                          signum((data['sunspots'] - lag(data['sunspots'],i+1).over(trend_window))))\n",
    "      features.append(str_sign)\n",
    "      \n",
    "  data = data.drop(\"Series\")\n",
    "  \n",
    "  return(data)"
   ]
  },
  {
   "cell_type": "markdown",
   "metadata": {
    "id": "91ZZETUIrU78"
   },
   "source": [
    "## Train/Test Split"
   ]
  },
  {
   "cell_type": "code",
   "execution_count": 10,
   "metadata": {
    "executionInfo": {
     "elapsed": 344,
     "status": "ok",
     "timestamp": 1650433411962,
     "user": {
      "displayName": "Kayla Johnson",
      "userId": "00411486830621541483"
     },
     "user_tz": 300
    },
    "id": "eVCI5-uqrYIa"
   },
   "outputs": [],
   "source": [
    "def split_time_series(data, train_ratio=0.7):\n",
    "     \n",
    "    # split data into train and test but maintain time-order\n",
    "    newSchema  = StructType(data.schema.fields + \\\n",
    "                [StructField('Row Number', LongType(), False)])\n",
    "    new_rdd = data.rdd.zipWithIndex().map(lambda x: list(x[0]) + [x[1]])\n",
    "\n",
    "    # create new df with row number\n",
    "    new_df = spark.createDataFrame(new_rdd, newSchema)\n",
    "    total_rows = new_df.count()\n",
    "    splitFraction  =int(total_rows*train_ratio)\n",
    "\n",
    "    df_train = new_df.where(new_df['Row Number'] >= 0)\\\n",
    "                   .where(new_df['Row Number'] <= splitFraction)\n",
    "    df_test = new_df.where(new_df['Row Number'] > splitFraction)\n",
    "    \n",
    "    return df_train, df_test"
   ]
  },
  {
   "cell_type": "markdown",
   "metadata": {
    "id": "TsU3YS48qmde"
   },
   "source": [
    "## Set up data for modeling"
   ]
  },
  {
   "cell_type": "code",
   "execution_count": 11,
   "metadata": {
    "executionInfo": {
     "elapsed": 5,
     "status": "ok",
     "timestamp": 1650433411962,
     "user": {
      "displayName": "Kayla Johnson",
      "userId": "00411486830621541483"
     },
     "user_tz": 300
    },
    "id": "Qt6YqqMdohgA"
   },
   "outputs": [],
   "source": [
    "def data_for_modeling(data, forecast_months):\n",
    "  # create label \n",
    "  lead_window = Window.rowsBetween(0,forecast_months)   \n",
    "  data = data.withColumn(\"label\", last(data['sunspots']).over(lead_window))\n",
    "  \n",
    "  # vector assembler\n",
    "  data = data.dropna()\n",
    "  assembler = VectorAssembler().setInputCols(features).setOutputCol(\"features\")\n",
    "  data_transformed = assembler.transform(data)\n",
    "\n",
    "  return(data_transformed)"
   ]
  },
  {
   "cell_type": "markdown",
   "metadata": {
    "id": "Q4krf47Rwdnr"
   },
   "source": [
    "# Helper Functions"
   ]
  },
  {
   "cell_type": "markdown",
   "metadata": {
    "id": "AuXyfexq0M7F"
   },
   "source": [
    "## Check that distribution is stationary "
   ]
  },
  {
   "cell_type": "code",
   "execution_count": 12,
   "metadata": {
    "executionInfo": {
     "elapsed": 6,
     "status": "ok",
     "timestamp": 1650433411963,
     "user": {
      "displayName": "Kayla Johnson",
      "userId": "00411486830621541483"
     },
     "user_tz": 300
    },
    "id": "nr_hkb0wwg8s"
   },
   "outputs": [],
   "source": [
    "def CheckStationarity(timeSeriesCol):\n",
    "    \n",
    "    # this function works with Pandas dataframe only not with spark dataframes\n",
    "    # this performs Augmented Dickey-Fuller's test\n",
    "    \n",
    "    test_result = ts.adfuller(timeSeriesCol.values)\n",
    "    print('ADF Statistic : %f \\n' %test_result[0])\n",
    "    print('p-value : %f \\n' %test_result[1])\n",
    "    print('Critical values are: \\n')\n",
    "    print(test_result[4])"
   ]
  },
  {
   "cell_type": "markdown",
   "metadata": {
    "id": "w207f4kZ0pj5"
   },
   "source": [
    "## Prediction"
   ]
  },
  {
   "cell_type": "code",
   "execution_count": 13,
   "metadata": {
    "executionInfo": {
     "elapsed": 5,
     "status": "ok",
     "timestamp": 1650433411963,
     "user": {
      "displayName": "Kayla Johnson",
      "userId": "00411486830621541483"
     },
     "user_tz": 300
    },
    "id": "5MlYiCnq0sCN"
   },
   "outputs": [],
   "source": [
    "def Predict(I, df1, df2, timeSeriesCol, predictionCol, joinCol):\n",
    "    \n",
    "    # converts differenced predictions to raw predictions\n",
    "    dZCol = 'DeltaZ'+str(i) \n",
    "    f_strCol = 'forecast_'+str(i)+'day'\n",
    "    df = df1.join(df2, [joinCol], how='inner').orderBy(asc('Date'))\n",
    "    df = df.withColumnRenamed(predictionCol, dZCol)\n",
    "    df = df.withColumn(f_strCol, col(dZCol)+col(timeSeriesCol))\n",
    "\n",
    "    return df"
   ]
  },
  {
   "cell_type": "markdown",
   "metadata": {
    "id": "JjoAknoYFXg4"
   },
   "source": [
    "## Save results for comparison"
   ]
  },
  {
   "cell_type": "markdown",
   "metadata": {
    "id": "w3K-ej0TI8TR"
   },
   "source": [
    "# Data for Modeling"
   ]
  },
  {
   "cell_type": "markdown",
   "metadata": {
    "id": "myqrsbu7LmCB"
   },
   "source": [
    "1. Run create_ts_vars using desired variables"
   ]
  },
  {
   "cell_type": "code",
   "execution_count": 14,
   "metadata": {
    "executionInfo": {
     "elapsed": 155,
     "status": "ok",
     "timestamp": 1650433608990,
     "user": {
      "displayName": "Kayla Johnson",
      "userId": "00411486830621541483"
     },
     "user_tz": 300
    },
    "id": "pWW_VlDW-GQU"
   },
   "outputs": [],
   "source": [
    "n_lags = 12*3\n",
    "data_lag = data.select('*')\n",
    "features = ['sunspots']\n",
    "forecast_months = 10"
   ]
  },
  {
   "cell_type": "code",
   "execution_count": 15,
   "metadata": {
    "colab": {
     "base_uri": "https://localhost:8080/"
    },
    "executionInfo": {
     "elapsed": 5067,
     "status": "ok",
     "timestamp": 1650433614841,
     "user": {
      "displayName": "Kayla Johnson",
      "userId": "00411486830621541483"
     },
     "user_tz": 300
    },
    "id": "QZ5JXBa7LlcM",
    "outputId": "26a14600-2a6c-4adc-fa0b-17ddc28aa02b"
   },
   "outputs": [
    {
     "name": "stdout",
     "output_type": "stream",
     "text": [
      "+----------+--------+--------------+--------------+--------------+--------------+--------------+--------------+--------------+--------------+--------------+---------------+---------------+---------------+---------------+---------------+---------------+---------------+---------------+---------------+---------------+---------------+---------------+---------------+---------------+---------------+---------------+---------------+---------------+---------------+---------------+---------------+---------------+---------------+---------------+---------------+---------------+---------------+----------------------+-------------------+-------------------+-------------------+-------------------+-------------------+-------------------+-------------------+-------------------+-------------------+--------------------+--------------------+--------------------+--------------------+--------------------+--------------------+--------------------+--------------------+--------------------+--------------------+--------------------+--------------------+--------------------+--------------------+--------------------+--------------------+--------------------+--------------------+--------------------+--------------------+--------------------+--------------------+--------------------+--------------------+--------------------+--------------------+--------------------+\n",
      "|      date|sunspots|sunspots_lag_1|sunspots_lag_2|sunspots_lag_3|sunspots_lag_4|sunspots_lag_5|sunspots_lag_6|sunspots_lag_7|sunspots_lag_8|sunspots_lag_9|sunspots_lag_10|sunspots_lag_11|sunspots_lag_12|sunspots_lag_13|sunspots_lag_14|sunspots_lag_15|sunspots_lag_16|sunspots_lag_17|sunspots_lag_18|sunspots_lag_19|sunspots_lag_20|sunspots_lag_21|sunspots_lag_22|sunspots_lag_23|sunspots_lag_24|sunspots_lag_25|sunspots_lag_26|sunspots_lag_27|sunspots_lag_28|sunspots_lag_29|sunspots_lag_30|sunspots_lag_31|sunspots_lag_32|sunspots_lag_33|sunspots_lag_34|sunspots_lag_35|sunspots_lag_36|sunspots_36_moving_avg|sunspots_lag_1_sign|sunspots_lag_2_sign|sunspots_lag_3_sign|sunspots_lag_4_sign|sunspots_lag_5_sign|sunspots_lag_6_sign|sunspots_lag_7_sign|sunspots_lag_8_sign|sunspots_lag_9_sign|sunspots_lag_10_sign|sunspots_lag_11_sign|sunspots_lag_12_sign|sunspots_lag_13_sign|sunspots_lag_14_sign|sunspots_lag_15_sign|sunspots_lag_16_sign|sunspots_lag_17_sign|sunspots_lag_18_sign|sunspots_lag_19_sign|sunspots_lag_20_sign|sunspots_lag_21_sign|sunspots_lag_22_sign|sunspots_lag_23_sign|sunspots_lag_24_sign|sunspots_lag_25_sign|sunspots_lag_26_sign|sunspots_lag_27_sign|sunspots_lag_28_sign|sunspots_lag_29_sign|sunspots_lag_30_sign|sunspots_lag_31_sign|sunspots_lag_32_sign|sunspots_lag_33_sign|sunspots_lag_34_sign|sunspots_lag_35_sign|sunspots_lag_36_sign|\n",
      "+----------+--------+--------------+--------------+--------------+--------------+--------------+--------------+--------------+--------------+--------------+---------------+---------------+---------------+---------------+---------------+---------------+---------------+---------------+---------------+---------------+---------------+---------------+---------------+---------------+---------------+---------------+---------------+---------------+---------------+---------------+---------------+---------------+---------------+---------------+---------------+---------------+---------------+----------------------+-------------------+-------------------+-------------------+-------------------+-------------------+-------------------+-------------------+-------------------+-------------------+--------------------+--------------------+--------------------+--------------------+--------------------+--------------------+--------------------+--------------------+--------------------+--------------------+--------------------+--------------------+--------------------+--------------------+--------------------+--------------------+--------------------+--------------------+--------------------+--------------------+--------------------+--------------------+--------------------+--------------------+--------------------+--------------------+--------------------+\n",
      "|1749-01-31|    96.7|          null|          null|          null|          null|          null|          null|          null|          null|          null|           null|           null|           null|           null|           null|           null|           null|           null|           null|           null|           null|           null|           null|           null|           null|           null|           null|           null|           null|           null|           null|           null|           null|           null|           null|           null|           null|                  96.7|               null|               null|               null|               null|               null|               null|               null|               null|               null|                null|                null|                null|                null|                null|                null|                null|                null|                null|                null|                null|                null|                null|                null|                null|                null|                null|                null|                null|                null|                null|                null|                null|                null|                null|                null|                null|\n",
      "|1749-02-28|   104.3|          96.7|          null|          null|          null|          null|          null|          null|          null|          null|           null|           null|           null|           null|           null|           null|           null|           null|           null|           null|           null|           null|           null|           null|           null|           null|           null|           null|           null|           null|           null|           null|           null|           null|           null|           null|           null|                 100.5|                1.0|               null|               null|               null|               null|               null|               null|               null|               null|                null|                null|                null|                null|                null|                null|                null|                null|                null|                null|                null|                null|                null|                null|                null|                null|                null|                null|                null|                null|                null|                null|                null|                null|                null|                null|                null|\n",
      "|1749-03-31|   116.7|         104.3|          96.7|          null|          null|          null|          null|          null|          null|          null|           null|           null|           null|           null|           null|           null|           null|           null|           null|           null|           null|           null|           null|           null|           null|           null|           null|           null|           null|           null|           null|           null|           null|           null|           null|           null|           null|    105.89999999999999|                1.0|                1.0|               null|               null|               null|               null|               null|               null|               null|                null|                null|                null|                null|                null|                null|                null|                null|                null|                null|                null|                null|                null|                null|                null|                null|                null|                null|                null|                null|                null|                null|                null|                null|                null|                null|                null|\n",
      "|1749-04-30|    92.8|         116.7|         104.3|          96.7|          null|          null|          null|          null|          null|          null|           null|           null|           null|           null|           null|           null|           null|           null|           null|           null|           null|           null|           null|           null|           null|           null|           null|           null|           null|           null|           null|           null|           null|           null|           null|           null|           null|               102.625|               -1.0|               -1.0|               -1.0|               null|               null|               null|               null|               null|               null|                null|                null|                null|                null|                null|                null|                null|                null|                null|                null|                null|                null|                null|                null|                null|                null|                null|                null|                null|                null|                null|                null|                null|                null|                null|                null|                null|\n",
      "|1749-05-31|   141.7|          92.8|         116.7|         104.3|          96.7|          null|          null|          null|          null|          null|           null|           null|           null|           null|           null|           null|           null|           null|           null|           null|           null|           null|           null|           null|           null|           null|           null|           null|           null|           null|           null|           null|           null|           null|           null|           null|           null|    110.44000000000001|                1.0|                1.0|                1.0|                1.0|               null|               null|               null|               null|               null|                null|                null|                null|                null|                null|                null|                null|                null|                null|                null|                null|                null|                null|                null|                null|                null|                null|                null|                null|                null|                null|                null|                null|                null|                null|                null|                null|\n",
      "|1749-06-30|   139.2|         141.7|          92.8|         116.7|         104.3|          96.7|          null|          null|          null|          null|           null|           null|           null|           null|           null|           null|           null|           null|           null|           null|           null|           null|           null|           null|           null|           null|           null|           null|           null|           null|           null|           null|           null|           null|           null|           null|           null|    115.23333333333335|               -1.0|                1.0|                1.0|                1.0|                1.0|               null|               null|               null|               null|                null|                null|                null|                null|                null|                null|                null|                null|                null|                null|                null|                null|                null|                null|                null|                null|                null|                null|                null|                null|                null|                null|                null|                null|                null|                null|                null|\n",
      "|1749-07-31|   158.0|         139.2|         141.7|          92.8|         116.7|         104.3|          96.7|          null|          null|          null|           null|           null|           null|           null|           null|           null|           null|           null|           null|           null|           null|           null|           null|           null|           null|           null|           null|           null|           null|           null|           null|           null|           null|           null|           null|           null|           null|    121.34285714285716|                1.0|                1.0|                1.0|                1.0|                1.0|                1.0|               null|               null|               null|                null|                null|                null|                null|                null|                null|                null|                null|                null|                null|                null|                null|                null|                null|                null|                null|                null|                null|                null|                null|                null|                null|                null|                null|                null|                null|                null|\n",
      "|1749-08-31|   110.5|         158.0|         139.2|         141.7|          92.8|         116.7|         104.3|          96.7|          null|          null|           null|           null|           null|           null|           null|           null|           null|           null|           null|           null|           null|           null|           null|           null|           null|           null|           null|           null|           null|           null|           null|           null|           null|           null|           null|           null|           null|    119.98750000000001|               -1.0|               -1.0|               -1.0|                1.0|               -1.0|                1.0|                1.0|               null|               null|                null|                null|                null|                null|                null|                null|                null|                null|                null|                null|                null|                null|                null|                null|                null|                null|                null|                null|                null|                null|                null|                null|                null|                null|                null|                null|                null|\n",
      "|1749-09-30|   126.5|         110.5|         158.0|         139.2|         141.7|          92.8|         116.7|         104.3|          96.7|          null|           null|           null|           null|           null|           null|           null|           null|           null|           null|           null|           null|           null|           null|           null|           null|           null|           null|           null|           null|           null|           null|           null|           null|           null|           null|           null|           null|    120.71111111111112|                1.0|               -1.0|               -1.0|               -1.0|                1.0|                1.0|                1.0|                1.0|               null|                null|                null|                null|                null|                null|                null|                null|                null|                null|                null|                null|                null|                null|                null|                null|                null|                null|                null|                null|                null|                null|                null|                null|                null|                null|                null|                null|\n",
      "|1749-10-31|   125.8|         126.5|         110.5|         158.0|         139.2|         141.7|          92.8|         116.7|         104.3|          96.7|           null|           null|           null|           null|           null|           null|           null|           null|           null|           null|           null|           null|           null|           null|           null|           null|           null|           null|           null|           null|           null|           null|           null|           null|           null|           null|           null|                121.22|               -1.0|                1.0|               -1.0|               -1.0|               -1.0|                1.0|                1.0|                1.0|                1.0|                null|                null|                null|                null|                null|                null|                null|                null|                null|                null|                null|                null|                null|                null|                null|                null|                null|                null|                null|                null|                null|                null|                null|                null|                null|                null|                null|\n",
      "+----------+--------+--------------+--------------+--------------+--------------+--------------+--------------+--------------+--------------+--------------+---------------+---------------+---------------+---------------+---------------+---------------+---------------+---------------+---------------+---------------+---------------+---------------+---------------+---------------+---------------+---------------+---------------+---------------+---------------+---------------+---------------+---------------+---------------+---------------+---------------+---------------+---------------+----------------------+-------------------+-------------------+-------------------+-------------------+-------------------+-------------------+-------------------+-------------------+-------------------+--------------------+--------------------+--------------------+--------------------+--------------------+--------------------+--------------------+--------------------+--------------------+--------------------+--------------------+--------------------+--------------------+--------------------+--------------------+--------------------+--------------------+--------------------+--------------------+--------------------+--------------------+--------------------+--------------------+--------------------+--------------------+--------------------+--------------------+\n",
      "only showing top 10 rows\n",
      "\n"
     ]
    }
   ],
   "source": [
    "data_lag = create_ts_vars(data_lag, n_lags, features)\n",
    "data_lag.show(10)"
   ]
  },
  {
   "cell_type": "code",
   "execution_count": 16,
   "metadata": {
    "colab": {
     "base_uri": "https://localhost:8080/"
    },
    "executionInfo": {
     "elapsed": 10,
     "status": "ok",
     "timestamp": 1650433614842,
     "user": {
      "displayName": "Kayla Johnson",
      "userId": "00411486830621541483"
     },
     "user_tz": 300
    },
    "id": "eqXvAQbuFSqD",
    "outputId": "f501acf3-3d9d-4182-ec7e-b62b095d3c3d"
   },
   "outputs": [
    {
     "data": {
      "text/plain": [
       "74"
      ]
     },
     "execution_count": 16,
     "metadata": {},
     "output_type": "execute_result"
    }
   ],
   "source": [
    "len(data_lag.columns)-1"
   ]
  },
  {
   "cell_type": "markdown",
   "metadata": {
    "id": "KiI_mNxnLumj"
   },
   "source": [
    "2. Set up data for modeling (set up label, [features])"
   ]
  },
  {
   "cell_type": "code",
   "execution_count": 17,
   "metadata": {
    "executionInfo": {
     "elapsed": 485,
     "status": "ok",
     "timestamp": 1650433618926,
     "user": {
      "displayName": "Kayla Johnson",
      "userId": "00411486830621541483"
     },
     "user_tz": 300
    },
    "id": "t3gyOgsnLu9A"
   },
   "outputs": [],
   "source": [
    "data_transformed = data_for_modeling(data_lag, forecast_months)"
   ]
  },
  {
   "cell_type": "markdown",
   "metadata": {
    "id": "z7v5VbQ7Nb_j"
   },
   "source": [
    "3. Train-test split"
   ]
  },
  {
   "cell_type": "code",
   "execution_count": 18,
   "metadata": {
    "executionInfo": {
     "elapsed": 3617,
     "status": "ok",
     "timestamp": 1650433623192,
     "user": {
      "displayName": "Kayla Johnson",
      "userId": "00411486830621541483"
     },
     "user_tz": 300
    },
    "id": "egpjSvE9Ndpy"
   },
   "outputs": [],
   "source": [
    "train, test = split_time_series(data_transformed, 0.7)"
   ]
  },
  {
   "cell_type": "code",
   "execution_count": 19,
   "metadata": {
    "colab": {
     "base_uri": "https://localhost:8080/"
    },
    "executionInfo": {
     "elapsed": 3987,
     "status": "ok",
     "timestamp": 1650433627173,
     "user": {
      "displayName": "Kayla Johnson",
      "userId": "00411486830621541483"
     },
     "user_tz": 300
    },
    "id": "t6QofgDntqic",
    "outputId": "a74113d6-d770-46c6-af69-99ecb9f596e1"
   },
   "outputs": [
    {
     "name": "stdout",
     "output_type": "stream",
     "text": [
      "2261\n",
      "968\n"
     ]
    }
   ],
   "source": [
    "print(train.count())\n",
    "print(test.count())"
   ]
  },
  {
   "cell_type": "markdown",
   "metadata": {
    "id": "xsa-g0jrMLR7"
   },
   "source": [
    "Now the data is ready for modeling! "
   ]
  },
  {
   "cell_type": "markdown",
   "metadata": {
    "id": "4sIKGU4zv_2c"
   },
   "source": [
    "# Random Forest"
   ]
  },
  {
   "cell_type": "code",
   "execution_count": 20,
   "metadata": {
    "executionInfo": {
     "elapsed": 158,
     "status": "ok",
     "timestamp": 1650433722907,
     "user": {
      "displayName": "Kayla Johnson",
      "userId": "00411486830621541483"
     },
     "user_tz": 300
    },
    "id": "-2BPXNI8vp25"
   },
   "outputs": [],
   "source": [
    "from pyspark.ml.regression import RandomForestRegressor\n",
    "\n",
    "def rfr_fxn(train, test, max_depth= 5):\n",
    "  # init model\n",
    "  rfr = RandomForestRegressor(featuresCol=\"features\",\\\n",
    "                                    labelCol=\"label\",\\\n",
    "                                    maxDepth = max_depth,\\\n",
    "                                    subsamplingRate = 0.8,\\\n",
    "                                    )\n",
    "  \n",
    "  # fit model \n",
    "  model = rfr.fit(train)\n",
    "  predictions_rfr_train = model.transform(train)\n",
    "  predictions_rfr_test = model.transform(test)\n",
    "\n",
    "  \n",
    "\n",
    "  # calc rmse\n",
    "  evaluator = RegressionEvaluator(predictionCol=\"prediction\",\\\n",
    "                                        labelCol=\"label\",\\\n",
    "                                        metricName =\"rmse\")\n",
    "  RMSE_rfr_train = evaluator.evaluate(predictions_rfr_train)\n",
    "  RMSE_rfr_test= evaluator.evaluate(predictions_rfr_test)\n",
    "  return train, test, predictions_rfr_train, predictions_rfr_test , RMSE_rfr_train, RMSE_rfr_test"
   ]
  },
  {
   "cell_type": "code",
   "execution_count": 21,
   "metadata": {
    "colab": {
     "base_uri": "https://localhost:8080/"
    },
    "executionInfo": {
     "elapsed": 13198,
     "status": "ok",
     "timestamp": 1650433740403,
     "user": {
      "displayName": "Kayla Johnson",
      "userId": "00411486830621541483"
     },
     "user_tz": 300
    },
    "id": "WS3iY0Rh4y2-",
    "outputId": "22003c55-caed-4b53-8e85-1f0a8c4a05f6"
   },
   "outputs": [
    {
     "name": "stdout",
     "output_type": "stream",
     "text": [
      "+----------+--------+--------------+--------------+--------------+--------------+--------------+--------------+--------------+--------------+--------------+---------------+---------------+---------------+---------------+---------------+---------------+---------------+---------------+---------------+---------------+---------------+---------------+---------------+---------------+---------------+---------------+---------------+---------------+---------------+---------------+---------------+---------------+---------------+---------------+---------------+---------------+---------------+----------------------+-------------------+-------------------+-------------------+-------------------+-------------------+-------------------+-------------------+-------------------+-------------------+--------------------+--------------------+--------------------+--------------------+--------------------+--------------------+--------------------+--------------------+--------------------+--------------------+--------------------+--------------------+--------------------+--------------------+--------------------+--------------------+--------------------+--------------------+--------------------+--------------------+--------------------+--------------------+--------------------+--------------------+--------------------+--------------------+--------------------+-----+--------------------+----------+-----------------+\n",
      "|      date|sunspots|sunspots_lag_1|sunspots_lag_2|sunspots_lag_3|sunspots_lag_4|sunspots_lag_5|sunspots_lag_6|sunspots_lag_7|sunspots_lag_8|sunspots_lag_9|sunspots_lag_10|sunspots_lag_11|sunspots_lag_12|sunspots_lag_13|sunspots_lag_14|sunspots_lag_15|sunspots_lag_16|sunspots_lag_17|sunspots_lag_18|sunspots_lag_19|sunspots_lag_20|sunspots_lag_21|sunspots_lag_22|sunspots_lag_23|sunspots_lag_24|sunspots_lag_25|sunspots_lag_26|sunspots_lag_27|sunspots_lag_28|sunspots_lag_29|sunspots_lag_30|sunspots_lag_31|sunspots_lag_32|sunspots_lag_33|sunspots_lag_34|sunspots_lag_35|sunspots_lag_36|sunspots_36_moving_avg|sunspots_lag_1_sign|sunspots_lag_2_sign|sunspots_lag_3_sign|sunspots_lag_4_sign|sunspots_lag_5_sign|sunspots_lag_6_sign|sunspots_lag_7_sign|sunspots_lag_8_sign|sunspots_lag_9_sign|sunspots_lag_10_sign|sunspots_lag_11_sign|sunspots_lag_12_sign|sunspots_lag_13_sign|sunspots_lag_14_sign|sunspots_lag_15_sign|sunspots_lag_16_sign|sunspots_lag_17_sign|sunspots_lag_18_sign|sunspots_lag_19_sign|sunspots_lag_20_sign|sunspots_lag_21_sign|sunspots_lag_22_sign|sunspots_lag_23_sign|sunspots_lag_24_sign|sunspots_lag_25_sign|sunspots_lag_26_sign|sunspots_lag_27_sign|sunspots_lag_28_sign|sunspots_lag_29_sign|sunspots_lag_30_sign|sunspots_lag_31_sign|sunspots_lag_32_sign|sunspots_lag_33_sign|sunspots_lag_34_sign|sunspots_lag_35_sign|sunspots_lag_36_sign|label|            features|Row Number|       prediction|\n",
      "+----------+--------+--------------+--------------+--------------+--------------+--------------+--------------+--------------+--------------+--------------+---------------+---------------+---------------+---------------+---------------+---------------+---------------+---------------+---------------+---------------+---------------+---------------+---------------+---------------+---------------+---------------+---------------+---------------+---------------+---------------+---------------+---------------+---------------+---------------+---------------+---------------+---------------+----------------------+-------------------+-------------------+-------------------+-------------------+-------------------+-------------------+-------------------+-------------------+-------------------+--------------------+--------------------+--------------------+--------------------+--------------------+--------------------+--------------------+--------------------+--------------------+--------------------+--------------------+--------------------+--------------------+--------------------+--------------------+--------------------+--------------------+--------------------+--------------------+--------------------+--------------------+--------------------+--------------------+--------------------+--------------------+--------------------+--------------------+-----+--------------------+----------+-----------------+\n",
      "|1752-01-31|    58.3|          73.3|          47.5|          38.7|          39.2|          99.7|         110.5|          84.5|         101.2|          94.0|           75.5|           72.5|          116.7|          125.7|          105.5|          109.5|          152.0|          171.7|          142.3|          166.7|          150.0|          147.2|          148.7|          126.5|          122.2|          142.0|          264.3|          125.8|          126.5|          110.5|          158.0|          139.2|          141.7|           92.8|          116.7|          104.3|           96.7|    116.16486486486485|               -1.0|                1.0|                1.0|                1.0|               -1.0|               -1.0|               -1.0|               -1.0|               -1.0|                -1.0|                -1.0|                -1.0|                -1.0|                -1.0|                -1.0|                -1.0|                -1.0|                -1.0|                -1.0|                -1.0|                -1.0|                -1.0|                -1.0|                -1.0|                -1.0|                -1.0|                -1.0|                -1.0|                -1.0|                -1.0|                -1.0|                -1.0|                -1.0|                -1.0|                -1.0|                -1.0| 62.7|[58.3,73.3,47.5,3...|         0|55.80925963694508|\n",
      "|1752-02-29|    83.3|          58.3|          73.3|          47.5|          38.7|          39.2|          99.7|         110.5|          84.5|         101.2|           94.0|           75.5|           72.5|          116.7|          125.7|          105.5|          109.5|          152.0|          171.7|          142.3|          166.7|          150.0|          147.2|          148.7|          126.5|          122.2|          142.0|          264.3|          125.8|          126.5|          110.5|          158.0|          139.2|          141.7|           92.8|          116.7|          104.3|    115.80270270270267|                1.0|                1.0|                1.0|                1.0|                1.0|               -1.0|               -1.0|               -1.0|               -1.0|                -1.0|                 1.0|                 1.0|                -1.0|                -1.0|                -1.0|                -1.0|                -1.0|                -1.0|                -1.0|                -1.0|                -1.0|                -1.0|                -1.0|                -1.0|                -1.0|                -1.0|                -1.0|                -1.0|                -1.0|                -1.0|                -1.0|                -1.0|                -1.0|                -1.0|                -1.0|                -1.0| 66.7|[83.3,58.3,73.3,4...|         1|52.74896083684721|\n",
      "|1752-03-31|   118.3|          83.3|          58.3|          73.3|          47.5|          38.7|          39.2|          99.7|         110.5|          84.5|          101.2|           94.0|           75.5|           72.5|          116.7|          125.7|          105.5|          109.5|          152.0|          171.7|          142.3|          166.7|          150.0|          147.2|          148.7|          126.5|          122.2|          142.0|          264.3|          125.8|          126.5|          110.5|          158.0|          139.2|          141.7|           92.8|          116.7|    116.18108108108108|                1.0|                1.0|                1.0|                1.0|                1.0|                1.0|                1.0|                1.0|                1.0|                 1.0|                 1.0|                 1.0|                 1.0|                 1.0|                -1.0|                 1.0|                 1.0|                -1.0|                -1.0|                -1.0|                -1.0|                -1.0|                -1.0|                -1.0|                -1.0|                -1.0|                -1.0|                -1.0|                -1.0|                -1.0|                 1.0|                -1.0|                -1.0|                -1.0|                 1.0|                 1.0| 73.3|[118.3,83.3,58.3,...|         2|58.79606334092182|\n",
      "|1752-04-30|    98.8|         118.3|          83.3|          58.3|          73.3|          47.5|          38.7|          39.2|          99.7|         110.5|           84.5|          101.2|           94.0|           75.5|           72.5|          116.7|          125.7|          105.5|          109.5|          152.0|          171.7|          142.3|          166.7|          150.0|          147.2|          148.7|          126.5|          122.2|          142.0|          264.3|          125.8|          126.5|          110.5|          158.0|          139.2|          141.7|           92.8|    115.69729729729728|               -1.0|                1.0|                1.0|                1.0|                1.0|                1.0|                1.0|               -1.0|               -1.0|                 1.0|                -1.0|                 1.0|                 1.0|                 1.0|                -1.0|                -1.0|                -1.0|                -1.0|                -1.0|                -1.0|                -1.0|                -1.0|                -1.0|                -1.0|                -1.0|                -1.0|                -1.0|                -1.0|                -1.0|                -1.0|                -1.0|                -1.0|                -1.0|                -1.0|                -1.0|                 1.0| 53.3|[98.8,118.3,83.3,...|         3|55.05783379307727|\n",
      "|1752-05-31|    99.5|          98.8|         118.3|          83.3|          58.3|          73.3|          47.5|          38.7|          39.2|          99.7|          110.5|           84.5|          101.2|           94.0|           75.5|           72.5|          116.7|          125.7|          105.5|          109.5|          152.0|          171.7|          142.3|          166.7|          150.0|          147.2|          148.7|          126.5|          122.2|          142.0|          264.3|          125.8|          126.5|          110.5|          158.0|          139.2|          141.7|    115.87837837837837|                1.0|               -1.0|                1.0|                1.0|                1.0|                1.0|                1.0|                1.0|               -1.0|                -1.0|                 1.0|                -1.0|                 1.0|                 1.0|                 1.0|                -1.0|                -1.0|                -1.0|                -1.0|                -1.0|                -1.0|                -1.0|                -1.0|                -1.0|                -1.0|                -1.0|                -1.0|                -1.0|                -1.0|                -1.0|                -1.0|                -1.0|                -1.0|                -1.0|                -1.0|                -1.0| 76.2|[99.5,98.8,118.3,...|         4|60.74771940399862|\n",
      "+----------+--------+--------------+--------------+--------------+--------------+--------------+--------------+--------------+--------------+--------------+---------------+---------------+---------------+---------------+---------------+---------------+---------------+---------------+---------------+---------------+---------------+---------------+---------------+---------------+---------------+---------------+---------------+---------------+---------------+---------------+---------------+---------------+---------------+---------------+---------------+---------------+---------------+----------------------+-------------------+-------------------+-------------------+-------------------+-------------------+-------------------+-------------------+-------------------+-------------------+--------------------+--------------------+--------------------+--------------------+--------------------+--------------------+--------------------+--------------------+--------------------+--------------------+--------------------+--------------------+--------------------+--------------------+--------------------+--------------------+--------------------+--------------------+--------------------+--------------------+--------------------+--------------------+--------------------+--------------------+--------------------+--------------------+--------------------+-----+--------------------+----------+-----------------+\n",
      "only showing top 5 rows\n",
      "\n"
     ]
    }
   ],
   "source": [
    "rfr_train, rfr_test, rfr_pred_train, rfr_pred_test, rfr_RMSE_train, rfr_RMSE_test = rfr_fxn(train, test, max_depth=5)\n",
    "\n",
    "rfr_pred_train.show(5)"
   ]
  },
  {
   "cell_type": "code",
   "execution_count": 22,
   "metadata": {
    "colab": {
     "base_uri": "https://localhost:8080/"
    },
    "executionInfo": {
     "elapsed": 150,
     "status": "ok",
     "timestamp": 1650433757693,
     "user": {
      "displayName": "Kayla Johnson",
      "userId": "00411486830621541483"
     },
     "user_tz": 300
    },
    "id": "tsLU-FSc45in",
    "outputId": "3d6714d3-fbf3-47cb-9475-3d0be1662c7d"
   },
   "outputs": [
    {
     "data": {
      "text/plain": [
       "36.46555292784749"
      ]
     },
     "execution_count": 22,
     "metadata": {},
     "output_type": "execute_result"
    }
   ],
   "source": [
    "rfr_RMSE_test"
   ]
  },
  {
   "cell_type": "code",
   "execution_count": 23,
   "metadata": {
    "colab": {
     "base_uri": "https://localhost:8080/"
    },
    "executionInfo": {
     "elapsed": 8,
     "status": "ok",
     "timestamp": 1650433765362,
     "user": {
      "displayName": "Kayla Johnson",
      "userId": "00411486830621541483"
     },
     "user_tz": 300
    },
    "id": "UTClO30_N-N3",
    "outputId": "b387b7ca-e4bc-4a57-9789-9fee61e8d275"
   },
   "outputs": [
    {
     "data": {
      "text/plain": [
       "29.51292874433692"
      ]
     },
     "execution_count": 23,
     "metadata": {},
     "output_type": "execute_result"
    }
   ],
   "source": [
    "rfr_RMSE_train"
   ]
  },
  {
   "cell_type": "markdown",
   "metadata": {
    "id": "H9IdOydSODN9"
   },
   "source": [
    "Graph"
   ]
  },
  {
   "cell_type": "code",
   "execution_count": 24,
   "metadata": {
    "colab": {
     "base_uri": "https://localhost:8080/",
     "height": 350
    },
    "executionInfo": {
     "elapsed": 5547,
     "status": "ok",
     "timestamp": 1650433789739,
     "user": {
      "displayName": "Kayla Johnson",
      "userId": "00411486830621541483"
     },
     "user_tz": 300
    },
    "id": "p3Ust4NEODv2",
    "outputId": "b06fa64a-0391-4849-cf64-cbce91134740"
   },
   "outputs": [
    {
     "name": "stderr",
     "output_type": "stream",
     "text": [
      "/opt/conda/anaconda/lib/python3.7/site-packages/matplotlib/cbook/__init__.py:1402: FutureWarning: Support for multi-dimensional indexing (e.g. `obj[:, None]`) is deprecated and will be removed in a future version.  Convert to a numpy array before indexing instead.\n",
      "  x[:, None]\n",
      "/opt/conda/anaconda/lib/python3.7/site-packages/matplotlib/axes/_base.py:276: FutureWarning: Support for multi-dimensional indexing (e.g. `obj[:, None]`) is deprecated and will be removed in a future version.  Convert to a numpy array before indexing instead.\n",
      "  x = x[:, np.newaxis]\n",
      "/opt/conda/anaconda/lib/python3.7/site-packages/matplotlib/axes/_base.py:278: FutureWarning: Support for multi-dimensional indexing (e.g. `obj[:, None]`) is deprecated and will be removed in a future version.  Convert to a numpy array before indexing instead.\n",
      "  y = y[:, np.newaxis]\n"
     ]
    },
    {
     "data": {
      "image/png": "[encoded data removed]",
      "text/plain": [
       "<Figure size 1152x360 with 1 Axes>"
      ]
     },
     "metadata": {
      "needs_background": "light"
     },
     "output_type": "display_data"
    }
   ],
   "source": [
    "rfr_pred_test_df = rfr_pred_test.select(['date', 'label','prediction']).toPandas()\n",
    "\n",
    "fig = plt.figure(figsize=(16,5))\n",
    "plt.plot(rfr_pred_test_df['date'], rfr_pred_test_df['label'], color='blue', label='actual', alpha=0.5)\n",
    "plt.plot(rfr_pred_test_df['date'], rfr_pred_test_df['prediction'], color='red', label='prediction', alpha=0.5)\n",
    "plt.xlabel('Date')\n",
    "plt.ylabel('Mean Avg. Monthly Sunspots')\n",
    "plt.title('Random Forest: Actual Mean Monthly Sunspots vs. Predicted with 3 Year Lag')\n",
    "plt.legend(loc=\"upper right\")\n",
    "\n",
    "plt.show()"
   ]
  },
  {
   "cell_type": "markdown",
   "metadata": {
    "id": "9QXCX2j5vrKp"
   },
   "source": [
    "# Gradient Boosting"
   ]
  },
  {
   "cell_type": "code",
   "execution_count": 25,
   "metadata": {
    "executionInfo": {
     "elapsed": 148,
     "status": "ok",
     "timestamp": 1650433832215,
     "user": {
      "displayName": "Kayla Johnson",
      "userId": "00411486830621541483"
     },
     "user_tz": 300
    },
    "id": "jzwlL-XNxGqm"
   },
   "outputs": [],
   "source": [
    "from pyspark.ml.regression import GBTRegressor\n",
    "\n",
    "def gbt_fxn(train, test, max_depth = 5):\n",
    "  # init model\n",
    "  gbt = GBTRegressor(featuresCol=\"features\",\\\n",
    "                           labelCol=\"label\",\\\n",
    "                           maxDepth= max_depth,\\\n",
    "                           subsamplingRate=0.8)\n",
    "  \n",
    "  # fit model \n",
    "  model = gbt.fit(train)\n",
    "  predictions_gbt_train = model.transform(train)\n",
    "  predictions_gbt_test = model.transform(test)\n",
    "\n",
    "  # calc rmse\n",
    "  evaluator = RegressionEvaluator(predictionCol=\"prediction\",\\\n",
    "                                        labelCol=\"label\",\\\n",
    "                                        metricName =\"rmse\")\n",
    "  RMSE_gbt_test= evaluator.evaluate(predictions_gbt_test)\n",
    "  RMSE_gbt_train = evaluator.evaluate(predictions_gbt_train)\n",
    "  return train, test, predictions_gbt_train, predictions_gbt_test , RMSE_gbt_train, RMSE_gbt_test  "
   ]
  },
  {
   "cell_type": "code",
   "execution_count": 26,
   "metadata": {
    "colab": {
     "base_uri": "https://localhost:8080/"
    },
    "executionInfo": {
     "elapsed": 27620,
     "status": "ok",
     "timestamp": 1650433861107,
     "user": {
      "displayName": "Kayla Johnson",
      "userId": "00411486830621541483"
     },
     "user_tz": 300
    },
    "id": "sDc0YJ_1Hm38",
    "outputId": "d48db17c-d3fc-4213-c8ae-744d07379c4b"
   },
   "outputs": [
    {
     "name": "stdout",
     "output_type": "stream",
     "text": [
      "+----------+--------+--------------+--------------+--------------+--------------+--------------+--------------+--------------+--------------+--------------+---------------+---------------+---------------+---------------+---------------+---------------+---------------+---------------+---------------+---------------+---------------+---------------+---------------+---------------+---------------+---------------+---------------+---------------+---------------+---------------+---------------+---------------+---------------+---------------+---------------+---------------+---------------+----------------------+-------------------+-------------------+-------------------+-------------------+-------------------+-------------------+-------------------+-------------------+-------------------+--------------------+--------------------+--------------------+--------------------+--------------------+--------------------+--------------------+--------------------+--------------------+--------------------+--------------------+--------------------+--------------------+--------------------+--------------------+--------------------+--------------------+--------------------+--------------------+--------------------+--------------------+--------------------+--------------------+--------------------+--------------------+--------------------+--------------------+-----+--------------------+----------+------------------+\n",
      "|      date|sunspots|sunspots_lag_1|sunspots_lag_2|sunspots_lag_3|sunspots_lag_4|sunspots_lag_5|sunspots_lag_6|sunspots_lag_7|sunspots_lag_8|sunspots_lag_9|sunspots_lag_10|sunspots_lag_11|sunspots_lag_12|sunspots_lag_13|sunspots_lag_14|sunspots_lag_15|sunspots_lag_16|sunspots_lag_17|sunspots_lag_18|sunspots_lag_19|sunspots_lag_20|sunspots_lag_21|sunspots_lag_22|sunspots_lag_23|sunspots_lag_24|sunspots_lag_25|sunspots_lag_26|sunspots_lag_27|sunspots_lag_28|sunspots_lag_29|sunspots_lag_30|sunspots_lag_31|sunspots_lag_32|sunspots_lag_33|sunspots_lag_34|sunspots_lag_35|sunspots_lag_36|sunspots_36_moving_avg|sunspots_lag_1_sign|sunspots_lag_2_sign|sunspots_lag_3_sign|sunspots_lag_4_sign|sunspots_lag_5_sign|sunspots_lag_6_sign|sunspots_lag_7_sign|sunspots_lag_8_sign|sunspots_lag_9_sign|sunspots_lag_10_sign|sunspots_lag_11_sign|sunspots_lag_12_sign|sunspots_lag_13_sign|sunspots_lag_14_sign|sunspots_lag_15_sign|sunspots_lag_16_sign|sunspots_lag_17_sign|sunspots_lag_18_sign|sunspots_lag_19_sign|sunspots_lag_20_sign|sunspots_lag_21_sign|sunspots_lag_22_sign|sunspots_lag_23_sign|sunspots_lag_24_sign|sunspots_lag_25_sign|sunspots_lag_26_sign|sunspots_lag_27_sign|sunspots_lag_28_sign|sunspots_lag_29_sign|sunspots_lag_30_sign|sunspots_lag_31_sign|sunspots_lag_32_sign|sunspots_lag_33_sign|sunspots_lag_34_sign|sunspots_lag_35_sign|sunspots_lag_36_sign|label|            features|Row Number|        prediction|\n",
      "+----------+--------+--------------+--------------+--------------+--------------+--------------+--------------+--------------+--------------+--------------+---------------+---------------+---------------+---------------+---------------+---------------+---------------+---------------+---------------+---------------+---------------+---------------+---------------+---------------+---------------+---------------+---------------+---------------+---------------+---------------+---------------+---------------+---------------+---------------+---------------+---------------+---------------+----------------------+-------------------+-------------------+-------------------+-------------------+-------------------+-------------------+-------------------+-------------------+-------------------+--------------------+--------------------+--------------------+--------------------+--------------------+--------------------+--------------------+--------------------+--------------------+--------------------+--------------------+--------------------+--------------------+--------------------+--------------------+--------------------+--------------------+--------------------+--------------------+--------------------+--------------------+--------------------+--------------------+--------------------+--------------------+--------------------+--------------------+-----+--------------------+----------+------------------+\n",
      "|1752-01-31|    58.3|          73.3|          47.5|          38.7|          39.2|          99.7|         110.5|          84.5|         101.2|          94.0|           75.5|           72.5|          116.7|          125.7|          105.5|          109.5|          152.0|          171.7|          142.3|          166.7|          150.0|          147.2|          148.7|          126.5|          122.2|          142.0|          264.3|          125.8|          126.5|          110.5|          158.0|          139.2|          141.7|           92.8|          116.7|          104.3|           96.7|    116.16486486486485|               -1.0|                1.0|                1.0|                1.0|               -1.0|               -1.0|               -1.0|               -1.0|               -1.0|                -1.0|                -1.0|                -1.0|                -1.0|                -1.0|                -1.0|                -1.0|                -1.0|                -1.0|                -1.0|                -1.0|                -1.0|                -1.0|                -1.0|                -1.0|                -1.0|                -1.0|                -1.0|                -1.0|                -1.0|                -1.0|                -1.0|                -1.0|                -1.0|                -1.0|                -1.0|                -1.0| 62.7|[58.3,73.3,47.5,3...|         0| 65.04207276315105|\n",
      "|1752-02-29|    83.3|          58.3|          73.3|          47.5|          38.7|          39.2|          99.7|         110.5|          84.5|         101.2|           94.0|           75.5|           72.5|          116.7|          125.7|          105.5|          109.5|          152.0|          171.7|          142.3|          166.7|          150.0|          147.2|          148.7|          126.5|          122.2|          142.0|          264.3|          125.8|          126.5|          110.5|          158.0|          139.2|          141.7|           92.8|          116.7|          104.3|    115.80270270270267|                1.0|                1.0|                1.0|                1.0|                1.0|               -1.0|               -1.0|               -1.0|               -1.0|                -1.0|                 1.0|                 1.0|                -1.0|                -1.0|                -1.0|                -1.0|                -1.0|                -1.0|                -1.0|                -1.0|                -1.0|                -1.0|                -1.0|                -1.0|                -1.0|                -1.0|                -1.0|                -1.0|                -1.0|                -1.0|                -1.0|                -1.0|                -1.0|                -1.0|                -1.0|                -1.0| 66.7|[83.3,58.3,73.3,4...|         1| 52.34298508910992|\n",
      "|1752-03-31|   118.3|          83.3|          58.3|          73.3|          47.5|          38.7|          39.2|          99.7|         110.5|          84.5|          101.2|           94.0|           75.5|           72.5|          116.7|          125.7|          105.5|          109.5|          152.0|          171.7|          142.3|          166.7|          150.0|          147.2|          148.7|          126.5|          122.2|          142.0|          264.3|          125.8|          126.5|          110.5|          158.0|          139.2|          141.7|           92.8|          116.7|    116.18108108108108|                1.0|                1.0|                1.0|                1.0|                1.0|                1.0|                1.0|                1.0|                1.0|                 1.0|                 1.0|                 1.0|                 1.0|                 1.0|                -1.0|                 1.0|                 1.0|                -1.0|                -1.0|                -1.0|                -1.0|                -1.0|                -1.0|                -1.0|                -1.0|                -1.0|                -1.0|                -1.0|                -1.0|                -1.0|                 1.0|                -1.0|                -1.0|                -1.0|                 1.0|                 1.0| 73.3|[118.3,83.3,58.3,...|         2|54.553243205858244|\n",
      "|1752-04-30|    98.8|         118.3|          83.3|          58.3|          73.3|          47.5|          38.7|          39.2|          99.7|         110.5|           84.5|          101.2|           94.0|           75.5|           72.5|          116.7|          125.7|          105.5|          109.5|          152.0|          171.7|          142.3|          166.7|          150.0|          147.2|          148.7|          126.5|          122.2|          142.0|          264.3|          125.8|          126.5|          110.5|          158.0|          139.2|          141.7|           92.8|    115.69729729729728|               -1.0|                1.0|                1.0|                1.0|                1.0|                1.0|                1.0|               -1.0|               -1.0|                 1.0|                -1.0|                 1.0|                 1.0|                 1.0|                -1.0|                -1.0|                -1.0|                -1.0|                -1.0|                -1.0|                -1.0|                -1.0|                -1.0|                -1.0|                -1.0|                -1.0|                -1.0|                -1.0|                -1.0|                -1.0|                -1.0|                -1.0|                -1.0|                -1.0|                -1.0|                 1.0| 53.3|[98.8,118.3,83.3,...|         3| 62.69887165197211|\n",
      "|1752-05-31|    99.5|          98.8|         118.3|          83.3|          58.3|          73.3|          47.5|          38.7|          39.2|          99.7|          110.5|           84.5|          101.2|           94.0|           75.5|           72.5|          116.7|          125.7|          105.5|          109.5|          152.0|          171.7|          142.3|          166.7|          150.0|          147.2|          148.7|          126.5|          122.2|          142.0|          264.3|          125.8|          126.5|          110.5|          158.0|          139.2|          141.7|    115.87837837837837|                1.0|               -1.0|                1.0|                1.0|                1.0|                1.0|                1.0|                1.0|               -1.0|                -1.0|                 1.0|                -1.0|                 1.0|                 1.0|                 1.0|                -1.0|                -1.0|                -1.0|                -1.0|                -1.0|                -1.0|                -1.0|                -1.0|                -1.0|                -1.0|                -1.0|                -1.0|                -1.0|                -1.0|                -1.0|                -1.0|                -1.0|                -1.0|                -1.0|                -1.0|                -1.0| 76.2|[99.5,98.8,118.3,...|         4| 71.30615917647607|\n",
      "+----------+--------+--------------+--------------+--------------+--------------+--------------+--------------+--------------+--------------+--------------+---------------+---------------+---------------+---------------+---------------+---------------+---------------+---------------+---------------+---------------+---------------+---------------+---------------+---------------+---------------+---------------+---------------+---------------+---------------+---------------+---------------+---------------+---------------+---------------+---------------+---------------+---------------+----------------------+-------------------+-------------------+-------------------+-------------------+-------------------+-------------------+-------------------+-------------------+-------------------+--------------------+--------------------+--------------------+--------------------+--------------------+--------------------+--------------------+--------------------+--------------------+--------------------+--------------------+--------------------+--------------------+--------------------+--------------------+--------------------+--------------------+--------------------+--------------------+--------------------+--------------------+--------------------+--------------------+--------------------+--------------------+--------------------+--------------------+-----+--------------------+----------+------------------+\n",
      "only showing top 5 rows\n",
      "\n"
     ]
    }
   ],
   "source": [
    "gbt_train, gbt_test, gbt_pred_train, gbt_pred_test, gbt_RMSE_train, gbt_RMSE_test = gbt_fxn(train, test, max_depth=5)\n",
    "\n",
    "gbt_pred_train.show(5)"
   ]
  },
  {
   "cell_type": "code",
   "execution_count": 27,
   "metadata": {
    "colab": {
     "base_uri": "https://localhost:8080/"
    },
    "executionInfo": {
     "elapsed": 12,
     "status": "ok",
     "timestamp": 1650433861108,
     "user": {
      "displayName": "Kayla Johnson",
      "userId": "00411486830621541483"
     },
     "user_tz": 300
    },
    "id": "ME5eyUWzHved",
    "outputId": "6ec32ac2-c20b-4ccb-89f4-159fefd9851e"
   },
   "outputs": [
    {
     "data": {
      "text/plain": [
       "40.169695229511696"
      ]
     },
     "execution_count": 27,
     "metadata": {},
     "output_type": "execute_result"
    }
   ],
   "source": [
    "gbt_RMSE_test"
   ]
  },
  {
   "cell_type": "code",
   "execution_count": 28,
   "metadata": {
    "colab": {
     "base_uri": "https://localhost:8080/"
    },
    "executionInfo": {
     "elapsed": 10,
     "status": "ok",
     "timestamp": 1650433861108,
     "user": {
      "displayName": "Kayla Johnson",
      "userId": "00411486830621541483"
     },
     "user_tz": 300
    },
    "id": "hzVQdKiEheC8",
    "outputId": "404b0757-6374-4c5f-a468-c61c1a9779ec"
   },
   "outputs": [
    {
     "data": {
      "text/plain": [
       "22.449848182390138"
      ]
     },
     "execution_count": 28,
     "metadata": {},
     "output_type": "execute_result"
    }
   ],
   "source": [
    "gbt_RMSE_train"
   ]
  },
  {
   "cell_type": "code",
   "execution_count": 29,
   "metadata": {
    "colab": {
     "base_uri": "https://localhost:8080/",
     "height": 350
    },
    "executionInfo": {
     "elapsed": 2730,
     "status": "ok",
     "timestamp": 1650433865895,
     "user": {
      "displayName": "Kayla Johnson",
      "userId": "00411486830621541483"
     },
     "user_tz": 300
    },
    "id": "F8ZsT0XkHvmj",
    "outputId": "33890dbf-70fe-48d2-a06f-50741a3747af"
   },
   "outputs": [
    {
     "data": {
      "image/png": "[encoded data removed]",
      "text/plain": [
       "<Figure size 1152x360 with 1 Axes>"
      ]
     },
     "metadata": {
      "needs_background": "light"
     },
     "output_type": "display_data"
    }
   ],
   "source": [
    "gbt_pred_test_df = gbt_pred_test.select(['date', 'label','prediction']).toPandas()\n",
    "\n",
    "fig = plt.figure(figsize=(16,5))\n",
    "plt.plot(gbt_pred_test_df['date'], gbt_pred_test_df['label'], color='blue', label='actual', alpha=0.5)\n",
    "plt.plot(gbt_pred_test_df['date'], gbt_pred_test_df['prediction'], color='red', label='prediction', alpha=0.5)\n",
    "plt.xlabel('Date')\n",
    "plt.ylabel('Mean Avg. Monthly Sunspots')\n",
    "plt.title('Gradient Boosting: Actual Mean Monthly Sunspots vs. Predicted with 3 Year Lag')\n",
    "plt.legend(loc=\"upper right\")\n",
    "\n",
    "plt.show()"
   ]
  },
  {
   "cell_type": "markdown",
   "metadata": {
    "id": "ktr4rsV9OaAZ"
   },
   "source": [
    "# Forecast for Best Model"
   ]
  },
  {
   "cell_type": "markdown",
   "metadata": {
    "id": "y_OQhNEXnQEw"
   },
   "source": [
    "## Time Differencing"
   ]
  },
  {
   "cell_type": "markdown",
   "metadata": {
    "id": "8FIOfrhOoEtE"
   },
   "source": [
    "Function for first-order differencing -- creates stationary"
   ]
  },
  {
   "cell_type": "code",
   "execution_count": 30,
   "metadata": {
    "executionInfo": {
     "elapsed": 9,
     "status": "ok",
     "timestamp": 1650433528541,
     "user": {
      "displayName": "Kayla Johnson",
      "userId": "00411486830621541483"
     },
     "user_tz": 300
    },
    "id": "egwu8tXDoNGR"
   },
   "outputs": [],
   "source": [
    "def first_order_diff(data, input_col, output_col):\n",
    "    # performs first-order differencing\n",
    "    lag1_window = window.Window.rowsBetween(-1, 0)\n",
    "    data = data.withColumn(output_col, data[input_col] -  first(data[input_col]).over(lag1_window))\n",
    "    return data"
   ]
  },
  {
   "cell_type": "markdown",
   "metadata": {
    "id": "53BV7S5rOGTq"
   },
   "source": [
    "# Stop session"
   ]
  },
  {
   "cell_type": "code",
   "execution_count": 31,
   "metadata": {
    "executionInfo": {
     "elapsed": 729,
     "status": "ok",
     "timestamp": 1650434309552,
     "user": {
      "displayName": "Kayla Johnson",
      "userId": "00411486830621541483"
     },
     "user_tz": 300
    },
    "id": "7sSJ5f0UxGJT"
   },
   "outputs": [],
   "source": [
    "spark.stop()"
   ]
  }
 ],
 "metadata": {
  "colab": {
   "collapsed_sections": [],
   "name": "time-series-rf-gb.ipynb",
   "provenance": [],
   "toc_visible": true
  },
  "kernelspec": {
   "display_name": "Python 3",
   "language": "python",
   "name": "python3"
  },
  "language_info": {
   "codemirror_mode": {
    "name": "ipython",
    "version": 3
   },
   "file_extension": ".py",
   "mimetype": "text/x-python",
   "name": "python",
   "nbconvert_exporter": "python",
   "pygments_lexer": "ipython3",
   "version": "3.7.4"
  }
 },
 "nbformat": 4,
 "nbformat_minor": 4
}
